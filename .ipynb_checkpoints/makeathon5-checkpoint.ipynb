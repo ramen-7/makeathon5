{
 "cells": [
  {
   "cell_type": "code",
   "execution_count": 1,
   "id": "e031db4d",
   "metadata": {},
   "outputs": [],
   "source": [
    "import pandas as pd\n",
    "import sklearn\n",
    "import numpy as np\n",
    "import seaborn as sns\n",
    "import matplotlib.pyplot as plt"
   ]
  },
  {
   "cell_type": "code",
   "execution_count": 339,
   "id": "6343771b",
   "metadata": {},
   "outputs": [],
   "source": [
    "train = pd.read_csv('train.csv')\n",
    "test = pd.read_csv('test.csv')"
   ]
  },
  {
   "cell_type": "code",
   "execution_count": 340,
   "id": "fa9fb547",
   "metadata": {
    "scrolled": true
   },
   "outputs": [
    {
     "data": {
      "text/plain": [
       "Index(['PassengerId', 'HomePlanet', 'CryoSleep', 'Cabin', 'Destination', 'Age',\n",
       "       'VIP', 'RoomService', 'FoodCourt', 'ShoppingMall', 'Spa', 'VRDeck',\n",
       "       'Name', 'Transported'],\n",
       "      dtype='object')"
      ]
     },
     "execution_count": 340,
     "metadata": {},
     "output_type": "execute_result"
    }
   ],
   "source": [
    "train.columns"
   ]
  },
  {
   "cell_type": "code",
   "execution_count": 155,
   "id": "e5908608",
   "metadata": {},
   "outputs": [
    {
     "name": "stdout",
     "output_type": "stream",
     "text": [
      "HomePlanet  CryoSleep  Destination  \n",
      "Earth       False      TRAPPIST-1e      3346\n",
      "                       55 Cancri e       663\n",
      "                       PSO J318.5-22     509\n",
      "            True       TRAPPIST-1e      1211\n",
      "                       PSO J318.5-22     533\n",
      "                       55 Cancri e       299\n",
      "Europa      False      TRAPPIST-1e      1014\n",
      "                       55 Cancri e       620\n",
      "                       PSO J318.5-22      13\n",
      "            True       TRAPPIST-1e       677\n",
      "                       55 Cancri e       658\n",
      "                       PSO J318.5-22      16\n",
      "Mars        False      TRAPPIST-1e      1337\n",
      "                       55 Cancri e       166\n",
      "                       PSO J318.5-22      50\n",
      "            True       TRAPPIST-1e       869\n",
      "                       55 Cancri e       120\n",
      "                       PSO J318.5-22      15\n",
      "Name: Destination, dtype: int64\n"
     ]
    }
   ],
   "source": [
    "print(df.groupby(['HomePlanet', 'CryoSleep'])['Destination'].value_counts())"
   ]
  },
  {
   "cell_type": "markdown",
   "id": "190cc84e",
   "metadata": {},
   "source": [
    "## Decks B, C, E had almost double Transportations while F had 1.27 times"
   ]
  },
  {
   "cell_type": "code",
   "execution_count": 343,
   "id": "d76f7b49",
   "metadata": {},
   "outputs": [
    {
     "ename": "KeyError",
     "evalue": "'Deck'",
     "output_type": "error",
     "traceback": [
      "\u001b[1;31m---------------------------------------------------------------------------\u001b[0m",
      "\u001b[1;31mKeyError\u001b[0m                                  Traceback (most recent call last)",
      "\u001b[1;32m~\\AppData\\Local\\Temp/ipykernel_13236/1486969129.py\u001b[0m in \u001b[0;36m<module>\u001b[1;34m\u001b[0m\n\u001b[1;32m----> 1\u001b[1;33m \u001b[0mtrain\u001b[0m\u001b[1;33m.\u001b[0m\u001b[0mgroupby\u001b[0m\u001b[1;33m(\u001b[0m\u001b[1;33m[\u001b[0m\u001b[1;34m'Transported'\u001b[0m\u001b[1;33m,\u001b[0m \u001b[1;34m'Deck'\u001b[0m\u001b[1;33m]\u001b[0m\u001b[1;33m)\u001b[0m\u001b[1;33m[\u001b[0m\u001b[1;34m'CryoSleep'\u001b[0m\u001b[1;33m]\u001b[0m\u001b[1;33m.\u001b[0m\u001b[0mvalue_counts\u001b[0m\u001b[1;33m(\u001b[0m\u001b[1;33m)\u001b[0m\u001b[1;33m\u001b[0m\u001b[1;33m\u001b[0m\u001b[0m\n\u001b[0m",
      "\u001b[1;32mC:\\ProgramData\\Anaconda3\\lib\\site-packages\\pandas\\core\\frame.py\u001b[0m in \u001b[0;36mgroupby\u001b[1;34m(self, by, axis, level, as_index, sort, group_keys, squeeze, observed, dropna)\u001b[0m\n\u001b[0;32m   7629\u001b[0m         \u001b[1;31m# error: Argument \"squeeze\" to \"DataFrameGroupBy\" has incompatible type\u001b[0m\u001b[1;33m\u001b[0m\u001b[1;33m\u001b[0m\u001b[0m\n\u001b[0;32m   7630\u001b[0m         \u001b[1;31m# \"Union[bool, NoDefault]\"; expected \"bool\"\u001b[0m\u001b[1;33m\u001b[0m\u001b[1;33m\u001b[0m\u001b[0m\n\u001b[1;32m-> 7631\u001b[1;33m         return DataFrameGroupBy(\n\u001b[0m\u001b[0;32m   7632\u001b[0m             \u001b[0mobj\u001b[0m\u001b[1;33m=\u001b[0m\u001b[0mself\u001b[0m\u001b[1;33m,\u001b[0m\u001b[1;33m\u001b[0m\u001b[1;33m\u001b[0m\u001b[0m\n\u001b[0;32m   7633\u001b[0m             \u001b[0mkeys\u001b[0m\u001b[1;33m=\u001b[0m\u001b[0mby\u001b[0m\u001b[1;33m,\u001b[0m\u001b[1;33m\u001b[0m\u001b[1;33m\u001b[0m\u001b[0m\n",
      "\u001b[1;32mC:\\ProgramData\\Anaconda3\\lib\\site-packages\\pandas\\core\\groupby\\groupby.py\u001b[0m in \u001b[0;36m__init__\u001b[1;34m(self, obj, keys, axis, level, grouper, exclusions, selection, as_index, sort, group_keys, squeeze, observed, mutated, dropna)\u001b[0m\n\u001b[0;32m    887\u001b[0m             \u001b[1;32mfrom\u001b[0m \u001b[0mpandas\u001b[0m\u001b[1;33m.\u001b[0m\u001b[0mcore\u001b[0m\u001b[1;33m.\u001b[0m\u001b[0mgroupby\u001b[0m\u001b[1;33m.\u001b[0m\u001b[0mgrouper\u001b[0m \u001b[1;32mimport\u001b[0m \u001b[0mget_grouper\u001b[0m\u001b[1;33m\u001b[0m\u001b[1;33m\u001b[0m\u001b[0m\n\u001b[0;32m    888\u001b[0m \u001b[1;33m\u001b[0m\u001b[0m\n\u001b[1;32m--> 889\u001b[1;33m             grouper, exclusions, obj = get_grouper(\n\u001b[0m\u001b[0;32m    890\u001b[0m                 \u001b[0mobj\u001b[0m\u001b[1;33m,\u001b[0m\u001b[1;33m\u001b[0m\u001b[1;33m\u001b[0m\u001b[0m\n\u001b[0;32m    891\u001b[0m                 \u001b[0mkeys\u001b[0m\u001b[1;33m,\u001b[0m\u001b[1;33m\u001b[0m\u001b[1;33m\u001b[0m\u001b[0m\n",
      "\u001b[1;32mC:\\ProgramData\\Anaconda3\\lib\\site-packages\\pandas\\core\\groupby\\grouper.py\u001b[0m in \u001b[0;36mget_grouper\u001b[1;34m(obj, key, axis, level, sort, observed, mutated, validate, dropna)\u001b[0m\n\u001b[0;32m    860\u001b[0m                 \u001b[0min_axis\u001b[0m\u001b[1;33m,\u001b[0m \u001b[0mlevel\u001b[0m\u001b[1;33m,\u001b[0m \u001b[0mgpr\u001b[0m \u001b[1;33m=\u001b[0m \u001b[1;32mFalse\u001b[0m\u001b[1;33m,\u001b[0m \u001b[0mgpr\u001b[0m\u001b[1;33m,\u001b[0m \u001b[1;32mNone\u001b[0m\u001b[1;33m\u001b[0m\u001b[1;33m\u001b[0m\u001b[0m\n\u001b[0;32m    861\u001b[0m             \u001b[1;32melse\u001b[0m\u001b[1;33m:\u001b[0m\u001b[1;33m\u001b[0m\u001b[1;33m\u001b[0m\u001b[0m\n\u001b[1;32m--> 862\u001b[1;33m                 \u001b[1;32mraise\u001b[0m \u001b[0mKeyError\u001b[0m\u001b[1;33m(\u001b[0m\u001b[0mgpr\u001b[0m\u001b[1;33m)\u001b[0m\u001b[1;33m\u001b[0m\u001b[1;33m\u001b[0m\u001b[0m\n\u001b[0m\u001b[0;32m    863\u001b[0m         \u001b[1;32melif\u001b[0m \u001b[0misinstance\u001b[0m\u001b[1;33m(\u001b[0m\u001b[0mgpr\u001b[0m\u001b[1;33m,\u001b[0m \u001b[0mGrouper\u001b[0m\u001b[1;33m)\u001b[0m \u001b[1;32mand\u001b[0m \u001b[0mgpr\u001b[0m\u001b[1;33m.\u001b[0m\u001b[0mkey\u001b[0m \u001b[1;32mis\u001b[0m \u001b[1;32mnot\u001b[0m \u001b[1;32mNone\u001b[0m\u001b[1;33m:\u001b[0m\u001b[1;33m\u001b[0m\u001b[1;33m\u001b[0m\u001b[0m\n\u001b[0;32m    864\u001b[0m             \u001b[1;31m# Add key to exclusions\u001b[0m\u001b[1;33m\u001b[0m\u001b[1;33m\u001b[0m\u001b[0m\n",
      "\u001b[1;31mKeyError\u001b[0m: 'Deck'"
     ]
    }
   ],
   "source": [
    "train.groupby(['Transported', 'Deck'])['CryoSleep'].value_counts()"
   ]
  },
  {
   "cell_type": "code",
   "execution_count": 344,
   "id": "b0feb355",
   "metadata": {},
   "outputs": [],
   "source": [
    "df = train.append(test).reset_index()"
   ]
  },
  {
   "cell_type": "markdown",
   "id": "ddbc2c34",
   "metadata": {},
   "source": [
    "## Binning Age\n",
    "Categorized the users into age groups"
   ]
  },
  {
   "cell_type": "markdown",
   "id": "164cc631",
   "metadata": {},
   "source": [
    "# Try changing bins"
   ]
  },
  {
   "cell_type": "code",
   "execution_count": 345,
   "id": "009b31b1",
   "metadata": {},
   "outputs": [],
   "source": [
    "def age_group(df):\n",
    "    age_group = pd.cut(x=df.Age.astype(float),\n",
    "                      bins=[-1, 12, 18, 25, 30, 50, 1.e+10],\n",
    "                      labels=['Age_0-12', 'Age_13-17', 'Age_18-25', 'Age_26-30', 'Age_31-50', 'Age_51+'])\n",
    "    \n",
    "    df.insert(df.shape[1],'Age_Group', age_group)\n",
    "    return df\n"
   ]
  },
  {
   "cell_type": "markdown",
   "id": "dcca88b4",
   "metadata": {},
   "source": [
    "## Expenses\n",
    "\n",
    "`Total Expenses`: We take all expenses and of a user and add it, and add another column    `No expenses` which is a check if user has spent any money"
   ]
  },
  {
   "cell_type": "code",
   "execution_count": 346,
   "id": "5ed7ed22",
   "metadata": {},
   "outputs": [],
   "source": [
    "expense_features = [\"RoomService\", \"FoodCourt\", \"ShoppingMall\", 'Spa', \"VRDeck\"]\n",
    "def expense(df):\n",
    "    df['Total_expense'] = df.loc[:,expense_features].sum(axis=1)\n",
    "    df['No_expenses'] = (df['Total_expense']==0).astype(int)\n",
    "    return df"
   ]
  },
  {
   "cell_type": "markdown",
   "id": "43e738bc",
   "metadata": {},
   "source": [
    "## Group and Member Details\n"
   ]
  },
  {
   "cell_type": "code",
   "execution_count": 347,
   "id": "44abc678",
   "metadata": {},
   "outputs": [],
   "source": [
    "def group_details(df):\n",
    "    split = df.PassengerId.str.split('_')\n",
    "    group = [w[0] for w in split]\n",
    "    memberNum = [w[1] for w in split]\n",
    "    df['Group'] = group\n",
    "    df['MemberNum'] = memberNum\n",
    "    return df"
   ]
  },
  {
   "cell_type": "markdown",
   "id": "139f7db2",
   "metadata": {},
   "source": [
    "## Room Details"
   ]
  },
  {
   "cell_type": "code",
   "execution_count": 348,
   "id": "a301a082",
   "metadata": {},
   "outputs": [],
   "source": [
    "def cabin_details(df):\n",
    "    split = df.Cabin.str.split(\"/\", expand=True)\n",
    "    deck = split.iloc[:, 0]\n",
    "    num = split.iloc[:, 1]\n",
    "    side = split.iloc[:, 2]\n",
    "    side_encoded = [1 if w == 'P' else 0 for w in side]\n",
    "    \n",
    "    df['Deck'] = deck\n",
    "    df['Num'] = num\n",
    "    df['Side'] = side_encoded\n",
    "    \n",
    "    return df"
   ]
  },
  {
   "cell_type": "markdown",
   "id": "59ef78c9",
   "metadata": {},
   "source": [
    "## Cabin Region"
   ]
  },
  {
   "cell_type": "code",
   "execution_count": 349,
   "id": "f70d46db",
   "metadata": {},
   "outputs": [],
   "source": [
    "def cabin_region(df):\n",
    "    cabin_group = pd.cut(x=df.Num.astype('float'),\n",
    "                      bins=[-10, 300, 600, 900, 1200, 1500, 1800, 1.e+10],\n",
    "                      labels=['Cab_r_1', 'Cab_r_2', 'Cab_r_3', 'Cab_r_4', 'Cab_r_5', 'Cab_r_6', 'Cab_r_7'])\n",
    "    if 'Cabin_Region' in df.columns:\n",
    "        df = df.drop('Cabin_Region', axis=1)\n",
    "        df.insert(df.shape[1],'Cabin_Region', cabin_group)\n",
    "    else:\n",
    "        df.insert(df.shape[1],'Cabin_Region', cabin_group)\n",
    "    return df"
   ]
  },
  {
   "cell_type": "code",
   "execution_count": 350,
   "id": "6a28785d",
   "metadata": {},
   "outputs": [],
   "source": [
    "def prerpocess_df(df):\n",
    "    df = expense(df)\n",
    "    df = group_details(df)\n",
    "    df = cabin_details(df)\n",
    "    df = cabin_region(df)\n",
    "    return df"
   ]
  },
  {
   "cell_type": "code",
   "execution_count": 351,
   "id": "fada700a",
   "metadata": {},
   "outputs": [],
   "source": [
    "df = prerpocess_df(df)"
   ]
  },
  {
   "cell_type": "code",
   "execution_count": 352,
   "id": "ff7d6979",
   "metadata": {
    "scrolled": true
   },
   "outputs": [
    {
     "data": {
      "text/html": [
       "<div>\n",
       "<style scoped>\n",
       "    .dataframe tbody tr th:only-of-type {\n",
       "        vertical-align: middle;\n",
       "    }\n",
       "\n",
       "    .dataframe tbody tr th {\n",
       "        vertical-align: top;\n",
       "    }\n",
       "\n",
       "    .dataframe thead th {\n",
       "        text-align: right;\n",
       "    }\n",
       "</style>\n",
       "<table border=\"1\" class=\"dataframe\">\n",
       "  <thead>\n",
       "    <tr style=\"text-align: right;\">\n",
       "      <th></th>\n",
       "      <th>index</th>\n",
       "      <th>PassengerId</th>\n",
       "      <th>HomePlanet</th>\n",
       "      <th>CryoSleep</th>\n",
       "      <th>Cabin</th>\n",
       "      <th>Destination</th>\n",
       "      <th>Age</th>\n",
       "      <th>VIP</th>\n",
       "      <th>RoomService</th>\n",
       "      <th>FoodCourt</th>\n",
       "      <th>...</th>\n",
       "      <th>Name</th>\n",
       "      <th>Transported</th>\n",
       "      <th>Total_expense</th>\n",
       "      <th>No_expenses</th>\n",
       "      <th>Group</th>\n",
       "      <th>MemberNum</th>\n",
       "      <th>Deck</th>\n",
       "      <th>Num</th>\n",
       "      <th>Side</th>\n",
       "      <th>Cabin_Region</th>\n",
       "    </tr>\n",
       "  </thead>\n",
       "  <tbody>\n",
       "    <tr>\n",
       "      <th>0</th>\n",
       "      <td>0</td>\n",
       "      <td>0001_01</td>\n",
       "      <td>Europa</td>\n",
       "      <td>False</td>\n",
       "      <td>B/0/P</td>\n",
       "      <td>TRAPPIST-1e</td>\n",
       "      <td>39.0</td>\n",
       "      <td>False</td>\n",
       "      <td>0.0</td>\n",
       "      <td>0.0</td>\n",
       "      <td>...</td>\n",
       "      <td>Maham Ofracculy</td>\n",
       "      <td>False</td>\n",
       "      <td>0.0</td>\n",
       "      <td>1</td>\n",
       "      <td>0001</td>\n",
       "      <td>01</td>\n",
       "      <td>B</td>\n",
       "      <td>0</td>\n",
       "      <td>1</td>\n",
       "      <td>Cab_r_1</td>\n",
       "    </tr>\n",
       "    <tr>\n",
       "      <th>1</th>\n",
       "      <td>1</td>\n",
       "      <td>0002_01</td>\n",
       "      <td>Earth</td>\n",
       "      <td>False</td>\n",
       "      <td>F/0/S</td>\n",
       "      <td>TRAPPIST-1e</td>\n",
       "      <td>24.0</td>\n",
       "      <td>False</td>\n",
       "      <td>109.0</td>\n",
       "      <td>9.0</td>\n",
       "      <td>...</td>\n",
       "      <td>Juanna Vines</td>\n",
       "      <td>True</td>\n",
       "      <td>736.0</td>\n",
       "      <td>0</td>\n",
       "      <td>0002</td>\n",
       "      <td>01</td>\n",
       "      <td>F</td>\n",
       "      <td>0</td>\n",
       "      <td>0</td>\n",
       "      <td>Cab_r_1</td>\n",
       "    </tr>\n",
       "    <tr>\n",
       "      <th>2</th>\n",
       "      <td>2</td>\n",
       "      <td>0003_01</td>\n",
       "      <td>Europa</td>\n",
       "      <td>False</td>\n",
       "      <td>A/0/S</td>\n",
       "      <td>TRAPPIST-1e</td>\n",
       "      <td>58.0</td>\n",
       "      <td>True</td>\n",
       "      <td>43.0</td>\n",
       "      <td>3576.0</td>\n",
       "      <td>...</td>\n",
       "      <td>Altark Susent</td>\n",
       "      <td>False</td>\n",
       "      <td>10383.0</td>\n",
       "      <td>0</td>\n",
       "      <td>0003</td>\n",
       "      <td>01</td>\n",
       "      <td>A</td>\n",
       "      <td>0</td>\n",
       "      <td>0</td>\n",
       "      <td>Cab_r_1</td>\n",
       "    </tr>\n",
       "    <tr>\n",
       "      <th>3</th>\n",
       "      <td>3</td>\n",
       "      <td>0003_02</td>\n",
       "      <td>Europa</td>\n",
       "      <td>False</td>\n",
       "      <td>A/0/S</td>\n",
       "      <td>TRAPPIST-1e</td>\n",
       "      <td>33.0</td>\n",
       "      <td>False</td>\n",
       "      <td>0.0</td>\n",
       "      <td>1283.0</td>\n",
       "      <td>...</td>\n",
       "      <td>Solam Susent</td>\n",
       "      <td>False</td>\n",
       "      <td>5176.0</td>\n",
       "      <td>0</td>\n",
       "      <td>0003</td>\n",
       "      <td>02</td>\n",
       "      <td>A</td>\n",
       "      <td>0</td>\n",
       "      <td>0</td>\n",
       "      <td>Cab_r_1</td>\n",
       "    </tr>\n",
       "    <tr>\n",
       "      <th>4</th>\n",
       "      <td>4</td>\n",
       "      <td>0004_01</td>\n",
       "      <td>Earth</td>\n",
       "      <td>False</td>\n",
       "      <td>F/1/S</td>\n",
       "      <td>TRAPPIST-1e</td>\n",
       "      <td>16.0</td>\n",
       "      <td>False</td>\n",
       "      <td>303.0</td>\n",
       "      <td>70.0</td>\n",
       "      <td>...</td>\n",
       "      <td>Willy Santantines</td>\n",
       "      <td>True</td>\n",
       "      <td>1091.0</td>\n",
       "      <td>0</td>\n",
       "      <td>0004</td>\n",
       "      <td>01</td>\n",
       "      <td>F</td>\n",
       "      <td>1</td>\n",
       "      <td>0</td>\n",
       "      <td>Cab_r_1</td>\n",
       "    </tr>\n",
       "    <tr>\n",
       "      <th>...</th>\n",
       "      <td>...</td>\n",
       "      <td>...</td>\n",
       "      <td>...</td>\n",
       "      <td>...</td>\n",
       "      <td>...</td>\n",
       "      <td>...</td>\n",
       "      <td>...</td>\n",
       "      <td>...</td>\n",
       "      <td>...</td>\n",
       "      <td>...</td>\n",
       "      <td>...</td>\n",
       "      <td>...</td>\n",
       "      <td>...</td>\n",
       "      <td>...</td>\n",
       "      <td>...</td>\n",
       "      <td>...</td>\n",
       "      <td>...</td>\n",
       "      <td>...</td>\n",
       "      <td>...</td>\n",
       "      <td>...</td>\n",
       "      <td>...</td>\n",
       "    </tr>\n",
       "    <tr>\n",
       "      <th>12965</th>\n",
       "      <td>4272</td>\n",
       "      <td>9266_02</td>\n",
       "      <td>Earth</td>\n",
       "      <td>True</td>\n",
       "      <td>G/1496/S</td>\n",
       "      <td>TRAPPIST-1e</td>\n",
       "      <td>34.0</td>\n",
       "      <td>False</td>\n",
       "      <td>0.0</td>\n",
       "      <td>0.0</td>\n",
       "      <td>...</td>\n",
       "      <td>Jeron Peter</td>\n",
       "      <td>NaN</td>\n",
       "      <td>0.0</td>\n",
       "      <td>1</td>\n",
       "      <td>9266</td>\n",
       "      <td>02</td>\n",
       "      <td>G</td>\n",
       "      <td>1496</td>\n",
       "      <td>0</td>\n",
       "      <td>Cab_r_5</td>\n",
       "    </tr>\n",
       "    <tr>\n",
       "      <th>12966</th>\n",
       "      <td>4273</td>\n",
       "      <td>9269_01</td>\n",
       "      <td>Earth</td>\n",
       "      <td>False</td>\n",
       "      <td>NaN</td>\n",
       "      <td>TRAPPIST-1e</td>\n",
       "      <td>42.0</td>\n",
       "      <td>False</td>\n",
       "      <td>0.0</td>\n",
       "      <td>847.0</td>\n",
       "      <td>...</td>\n",
       "      <td>Matty Scheron</td>\n",
       "      <td>NaN</td>\n",
       "      <td>1018.0</td>\n",
       "      <td>0</td>\n",
       "      <td>9269</td>\n",
       "      <td>01</td>\n",
       "      <td>NaN</td>\n",
       "      <td>NaN</td>\n",
       "      <td>0</td>\n",
       "      <td>NaN</td>\n",
       "    </tr>\n",
       "    <tr>\n",
       "      <th>12967</th>\n",
       "      <td>4274</td>\n",
       "      <td>9271_01</td>\n",
       "      <td>Mars</td>\n",
       "      <td>True</td>\n",
       "      <td>D/296/P</td>\n",
       "      <td>55 Cancri e</td>\n",
       "      <td>NaN</td>\n",
       "      <td>False</td>\n",
       "      <td>0.0</td>\n",
       "      <td>0.0</td>\n",
       "      <td>...</td>\n",
       "      <td>Jayrin Pore</td>\n",
       "      <td>NaN</td>\n",
       "      <td>0.0</td>\n",
       "      <td>1</td>\n",
       "      <td>9271</td>\n",
       "      <td>01</td>\n",
       "      <td>D</td>\n",
       "      <td>296</td>\n",
       "      <td>1</td>\n",
       "      <td>Cab_r_1</td>\n",
       "    </tr>\n",
       "    <tr>\n",
       "      <th>12968</th>\n",
       "      <td>4275</td>\n",
       "      <td>9273_01</td>\n",
       "      <td>Europa</td>\n",
       "      <td>False</td>\n",
       "      <td>D/297/P</td>\n",
       "      <td>NaN</td>\n",
       "      <td>NaN</td>\n",
       "      <td>False</td>\n",
       "      <td>0.0</td>\n",
       "      <td>2680.0</td>\n",
       "      <td>...</td>\n",
       "      <td>Kitakan Conale</td>\n",
       "      <td>NaN</td>\n",
       "      <td>3203.0</td>\n",
       "      <td>0</td>\n",
       "      <td>9273</td>\n",
       "      <td>01</td>\n",
       "      <td>D</td>\n",
       "      <td>297</td>\n",
       "      <td>1</td>\n",
       "      <td>Cab_r_1</td>\n",
       "    </tr>\n",
       "    <tr>\n",
       "      <th>12969</th>\n",
       "      <td>4276</td>\n",
       "      <td>9277_01</td>\n",
       "      <td>Earth</td>\n",
       "      <td>True</td>\n",
       "      <td>G/1498/S</td>\n",
       "      <td>PSO J318.5-22</td>\n",
       "      <td>43.0</td>\n",
       "      <td>False</td>\n",
       "      <td>0.0</td>\n",
       "      <td>0.0</td>\n",
       "      <td>...</td>\n",
       "      <td>Lilace Leonzaley</td>\n",
       "      <td>NaN</td>\n",
       "      <td>0.0</td>\n",
       "      <td>1</td>\n",
       "      <td>9277</td>\n",
       "      <td>01</td>\n",
       "      <td>G</td>\n",
       "      <td>1498</td>\n",
       "      <td>0</td>\n",
       "      <td>Cab_r_5</td>\n",
       "    </tr>\n",
       "  </tbody>\n",
       "</table>\n",
       "<p>12970 rows × 23 columns</p>\n",
       "</div>"
      ],
      "text/plain": [
       "       index PassengerId HomePlanet CryoSleep     Cabin    Destination   Age  \\\n",
       "0          0     0001_01     Europa     False     B/0/P    TRAPPIST-1e  39.0   \n",
       "1          1     0002_01      Earth     False     F/0/S    TRAPPIST-1e  24.0   \n",
       "2          2     0003_01     Europa     False     A/0/S    TRAPPIST-1e  58.0   \n",
       "3          3     0003_02     Europa     False     A/0/S    TRAPPIST-1e  33.0   \n",
       "4          4     0004_01      Earth     False     F/1/S    TRAPPIST-1e  16.0   \n",
       "...      ...         ...        ...       ...       ...            ...   ...   \n",
       "12965   4272     9266_02      Earth      True  G/1496/S    TRAPPIST-1e  34.0   \n",
       "12966   4273     9269_01      Earth     False       NaN    TRAPPIST-1e  42.0   \n",
       "12967   4274     9271_01       Mars      True   D/296/P    55 Cancri e   NaN   \n",
       "12968   4275     9273_01     Europa     False   D/297/P            NaN   NaN   \n",
       "12969   4276     9277_01      Earth      True  G/1498/S  PSO J318.5-22  43.0   \n",
       "\n",
       "         VIP  RoomService  FoodCourt  ...               Name  Transported  \\\n",
       "0      False          0.0        0.0  ...    Maham Ofracculy        False   \n",
       "1      False        109.0        9.0  ...       Juanna Vines         True   \n",
       "2       True         43.0     3576.0  ...      Altark Susent        False   \n",
       "3      False          0.0     1283.0  ...       Solam Susent        False   \n",
       "4      False        303.0       70.0  ...  Willy Santantines         True   \n",
       "...      ...          ...        ...  ...                ...          ...   \n",
       "12965  False          0.0        0.0  ...        Jeron Peter          NaN   \n",
       "12966  False          0.0      847.0  ...      Matty Scheron          NaN   \n",
       "12967  False          0.0        0.0  ...        Jayrin Pore          NaN   \n",
       "12968  False          0.0     2680.0  ...     Kitakan Conale          NaN   \n",
       "12969  False          0.0        0.0  ...   Lilace Leonzaley          NaN   \n",
       "\n",
       "       Total_expense No_expenses Group  MemberNum  Deck   Num Side  \\\n",
       "0                0.0           1  0001         01     B     0    1   \n",
       "1              736.0           0  0002         01     F     0    0   \n",
       "2            10383.0           0  0003         01     A     0    0   \n",
       "3             5176.0           0  0003         02     A     0    0   \n",
       "4             1091.0           0  0004         01     F     1    0   \n",
       "...              ...         ...   ...        ...   ...   ...  ...   \n",
       "12965            0.0           1  9266         02     G  1496    0   \n",
       "12966         1018.0           0  9269         01   NaN   NaN    0   \n",
       "12967            0.0           1  9271         01     D   296    1   \n",
       "12968         3203.0           0  9273         01     D   297    1   \n",
       "12969            0.0           1  9277         01     G  1498    0   \n",
       "\n",
       "      Cabin_Region  \n",
       "0          Cab_r_1  \n",
       "1          Cab_r_1  \n",
       "2          Cab_r_1  \n",
       "3          Cab_r_1  \n",
       "4          Cab_r_1  \n",
       "...            ...  \n",
       "12965      Cab_r_5  \n",
       "12966          NaN  \n",
       "12967      Cab_r_1  \n",
       "12968      Cab_r_1  \n",
       "12969      Cab_r_5  \n",
       "\n",
       "[12970 rows x 23 columns]"
      ]
     },
     "execution_count": 352,
     "metadata": {},
     "output_type": "execute_result"
    }
   ],
   "source": [
    "df"
   ]
  },
  {
   "cell_type": "markdown",
   "id": "355a8ccd",
   "metadata": {},
   "source": [
    "# Filling NA Values"
   ]
  },
  {
   "cell_type": "code",
   "execution_count": 353,
   "id": "f78d353a",
   "metadata": {},
   "outputs": [
    {
     "data": {
      "text/plain": [
       "<AxesSubplot:>"
      ]
     },
     "execution_count": 353,
     "metadata": {},
     "output_type": "execute_result"
    },
    {
     "data": {
      "image/png": "[encoded data removed]",
      "text/plain": [
       "<Figure size 432x288 with 2 Axes>"
      ]
     },
     "metadata": {
      "needs_background": "light"
     },
     "output_type": "display_data"
    }
   ],
   "source": [
    "sns.heatmap(df.isna())"
   ]
  },
  {
   "cell_type": "code",
   "execution_count": 354,
   "id": "2aa9fd8a",
   "metadata": {
    "scrolled": true
   },
   "outputs": [
    {
     "data": {
      "text/plain": [
       "288"
      ]
     },
     "execution_count": 354,
     "metadata": {},
     "output_type": "execute_result"
    }
   ],
   "source": [
    "df.HomePlanet.isnull().sum()"
   ]
  },
  {
   "cell_type": "markdown",
   "id": "0d8a5774",
   "metadata": {},
   "source": [
    "#### The People from the same group will belong to the same HomePlanet, so we fill their values accordingly"
   ]
  },
  {
   "cell_type": "code",
   "execution_count": 355,
   "id": "922d7895",
   "metadata": {
    "scrolled": true
   },
   "outputs": [],
   "source": [
    "def null_HomePlanet_Group(df):\n",
    "    #get which group is from which planet\n",
    "    group_homePlanet_map = {}\n",
    "    for index, data in df.iterrows():\n",
    "        if type(data.HomePlanet) == str:\n",
    "            group_homePlanet_map[data.Group] = data.HomePlanet\n",
    "    group_homePlanet_map\n",
    "\n",
    "    #fill na Groups with HomePlanet\n",
    "    for index, data in df.iterrows():\n",
    "        if type(data.HomePlanet) == float and data.Group in group_homePlanet_map:\n",
    "            df.at[index, 'HomePlanet'] = group_homePlanet_map[data.Group]\n",
    "    return df"
   ]
  },
  {
   "cell_type": "code",
   "execution_count": 358,
   "id": "9bced10d",
   "metadata": {},
   "outputs": [],
   "source": [
    "df = null_HomePlanet_Group(df)"
   ]
  },
  {
   "cell_type": "code",
   "execution_count": 359,
   "id": "f84a5b3d",
   "metadata": {
    "scrolled": true
   },
   "outputs": [
    {
     "data": {
      "text/plain": [
       "157"
      ]
     },
     "execution_count": 359,
     "metadata": {},
     "output_type": "execute_result"
    }
   ],
   "source": [
    "df.HomePlanet.isnull().sum()"
   ]
  },
  {
   "cell_type": "code",
   "execution_count": 360,
   "id": "cf307515",
   "metadata": {
    "scrolled": true
   },
   "outputs": [
    {
     "data": {
      "text/plain": [
       "Deck  HomePlanet\n",
       "A     Europa         352\n",
       "B     Europa        1137\n",
       "C     Europa        1096\n",
       "D     Mars           410\n",
       "      Europa         301\n",
       "E     Earth          589\n",
       "      Mars           515\n",
       "      Europa         199\n",
       "F     Earth         2437\n",
       "      Mars          1742\n",
       "G     Earth         3731\n",
       "T     Europa          10\n",
       "Name: HomePlanet, dtype: int64"
      ]
     },
     "execution_count": 360,
     "metadata": {},
     "output_type": "execute_result"
    }
   ],
   "source": [
    "df.groupby(['Deck'])['HomePlanet'].value_counts()"
   ]
  },
  {
   "cell_type": "markdown",
   "id": "1632e95e",
   "metadata": {},
   "source": [
    "`A, B, C, T` -> Europa and `G` -> Earth"
   ]
  },
  {
   "cell_type": "code",
   "execution_count": 361,
   "id": "5fac6674",
   "metadata": {},
   "outputs": [],
   "source": [
    "def deck_HomePlanet(df):\n",
    "    df.loc[(df['HomePlanet'].isna()) & (df['Deck'].isin(['A', 'B', 'C', 'T'])), 'HomePlanet'] = 'Europa'\n",
    "    df.loc[(df['HomePlanet'].isna()) & (df['Deck']=='G'), 'HomePlanet'] = 'Earth'\n",
    "    return df"
   ]
  },
  {
   "cell_type": "code",
   "execution_count": 362,
   "id": "91c608e5",
   "metadata": {},
   "outputs": [],
   "source": [
    "df = deck_HomePlanet(df)"
   ]
  },
  {
   "cell_type": "code",
   "execution_count": 363,
   "id": "cf86d34b",
   "metadata": {},
   "outputs": [
    {
     "data": {
      "text/plain": [
       "94"
      ]
     },
     "execution_count": 363,
     "metadata": {},
     "output_type": "execute_result"
    }
   ],
   "source": [
    "df.HomePlanet.isnull().sum()"
   ]
  },
  {
   "cell_type": "code",
   "execution_count": 369,
   "id": "186082d4",
   "metadata": {
    "scrolled": false
   },
   "outputs": [
    {
     "data": {
      "text/plain": [
       "CryoSleep  No_expenses\n",
       "False      0              7513\n",
       "           1               740\n",
       "True       1              4717\n",
       "Name: No_expenses, dtype: int64"
      ]
     },
     "execution_count": 369,
     "metadata": {},
     "output_type": "execute_result"
    }
   ],
   "source": [
    "df.groupby(['CryoSleep'])['No_expenses'].value_counts()"
   ]
  },
  {
   "cell_type": "markdown",
   "id": "52915c11",
   "metadata": {},
   "source": [
    "#### All people in CryoSleep dont spend any money, while as majority of awake people do"
   ]
  },
  {
   "cell_type": "code",
   "execution_count": 370,
   "id": "d786e3dd",
   "metadata": {},
   "outputs": [],
   "source": [
    "def CryoSleep_Expenses(df):\n",
    "    df.loc[(df['CryoSleep'].isna()) & (df['No_expenses'] == 0), 'CryoSleep'] = False\n",
    "    df.loc[(df['CryoSleep'].isna()) & (df['No_expenses'] == 1), 'CryoSleep'] = True\n",
    "    return df"
   ]
  },
  {
   "cell_type": "code",
   "execution_count": 371,
   "id": "30be24e1",
   "metadata": {},
   "outputs": [
    {
     "data": {
      "text/plain": [
       "0"
      ]
     },
     "execution_count": 371,
     "metadata": {},
     "output_type": "execute_result"
    }
   ],
   "source": [
    "df = CryoSleep_Expenses(df)\n",
    "df.CryoSleep.isna().sum()"
   ]
  },
  {
   "cell_type": "code",
   "execution_count": 374,
   "id": "d7d1288b",
   "metadata": {},
   "outputs": [
    {
     "ename": "ValueError",
     "evalue": "Length of values (12707) does not match length of index (12970)",
     "output_type": "error",
     "traceback": [
      "\u001b[1;31m---------------------------------------------------------------------------\u001b[0m",
      "\u001b[1;31mValueError\u001b[0m                                Traceback (most recent call last)",
      "\u001b[1;32m~\\AppData\\Local\\Temp/ipykernel_13236/1490705624.py\u001b[0m in \u001b[0;36m<module>\u001b[1;34m\u001b[0m\n\u001b[0;32m      3\u001b[0m \u001b[0mroomServiceExpense\u001b[0m \u001b[1;33m=\u001b[0m \u001b[1;33m[\u001b[0m\u001b[1;36m1\u001b[0m \u001b[1;32mif\u001b[0m \u001b[0mw\u001b[0m \u001b[1;33m>\u001b[0m \u001b[1;36m0\u001b[0m \u001b[1;32melse\u001b[0m \u001b[1;36m0\u001b[0m \u001b[1;32mfor\u001b[0m \u001b[0mw\u001b[0m \u001b[1;32min\u001b[0m \u001b[0mdf\u001b[0m\u001b[1;33m.\u001b[0m\u001b[0mRoomService\u001b[0m \u001b[1;32mif\u001b[0m \u001b[0mmath\u001b[0m\u001b[1;33m.\u001b[0m\u001b[0misnan\u001b[0m\u001b[1;33m(\u001b[0m\u001b[0mw\u001b[0m\u001b[1;33m)\u001b[0m \u001b[1;33m==\u001b[0m \u001b[1;32mFalse\u001b[0m\u001b[1;33m]\u001b[0m\u001b[1;33m\u001b[0m\u001b[1;33m\u001b[0m\u001b[0m\n\u001b[0;32m      4\u001b[0m \u001b[0mfoodCourtExpense\u001b[0m \u001b[1;33m=\u001b[0m \u001b[1;33m[\u001b[0m\u001b[1;36m1\u001b[0m \u001b[1;32mif\u001b[0m \u001b[0mw\u001b[0m \u001b[1;33m>\u001b[0m \u001b[1;36m0\u001b[0m \u001b[1;32melse\u001b[0m \u001b[1;36m0\u001b[0m \u001b[1;32mfor\u001b[0m \u001b[0mw\u001b[0m \u001b[1;32min\u001b[0m \u001b[0mdf\u001b[0m\u001b[1;33m.\u001b[0m\u001b[0mFoodCourt\u001b[0m \u001b[1;32mif\u001b[0m \u001b[0mmath\u001b[0m\u001b[1;33m.\u001b[0m\u001b[0misnan\u001b[0m\u001b[1;33m(\u001b[0m\u001b[0mw\u001b[0m\u001b[1;33m)\u001b[0m \u001b[1;33m==\u001b[0m \u001b[1;32mFalse\u001b[0m\u001b[1;33m]\u001b[0m\u001b[1;33m\u001b[0m\u001b[1;33m\u001b[0m\u001b[0m\n\u001b[1;32m----> 5\u001b[1;33m \u001b[0mdf\u001b[0m\u001b[1;33m[\u001b[0m\u001b[1;34m'roomServiceExpense'\u001b[0m\u001b[1;33m]\u001b[0m \u001b[1;33m=\u001b[0m \u001b[0mroomServiceExpense\u001b[0m\u001b[1;33m\u001b[0m\u001b[1;33m\u001b[0m\u001b[0m\n\u001b[0m\u001b[0;32m      6\u001b[0m \u001b[0mdf\u001b[0m\u001b[1;33m[\u001b[0m\u001b[1;34m'foodCourtExpense'\u001b[0m\u001b[1;33m]\u001b[0m \u001b[1;33m=\u001b[0m \u001b[0mfoodCourtExpense\u001b[0m\u001b[1;33m\u001b[0m\u001b[1;33m\u001b[0m\u001b[0m\n\u001b[0;32m      7\u001b[0m \u001b[0mdf\u001b[0m\u001b[1;33m[\u001b[0m\u001b[1;34m'SpaExpense'\u001b[0m\u001b[1;33m]\u001b[0m \u001b[1;33m=\u001b[0m \u001b[0mspaExpense\u001b[0m\u001b[1;33m\u001b[0m\u001b[1;33m\u001b[0m\u001b[0m\n",
      "\u001b[1;32mC:\\ProgramData\\Anaconda3\\lib\\site-packages\\pandas\\core\\frame.py\u001b[0m in \u001b[0;36m__setitem__\u001b[1;34m(self, key, value)\u001b[0m\n\u001b[0;32m   3610\u001b[0m         \u001b[1;32melse\u001b[0m\u001b[1;33m:\u001b[0m\u001b[1;33m\u001b[0m\u001b[1;33m\u001b[0m\u001b[0m\n\u001b[0;32m   3611\u001b[0m             \u001b[1;31m# set column\u001b[0m\u001b[1;33m\u001b[0m\u001b[1;33m\u001b[0m\u001b[0m\n\u001b[1;32m-> 3612\u001b[1;33m             \u001b[0mself\u001b[0m\u001b[1;33m.\u001b[0m\u001b[0m_set_item\u001b[0m\u001b[1;33m(\u001b[0m\u001b[0mkey\u001b[0m\u001b[1;33m,\u001b[0m \u001b[0mvalue\u001b[0m\u001b[1;33m)\u001b[0m\u001b[1;33m\u001b[0m\u001b[1;33m\u001b[0m\u001b[0m\n\u001b[0m\u001b[0;32m   3613\u001b[0m \u001b[1;33m\u001b[0m\u001b[0m\n\u001b[0;32m   3614\u001b[0m     \u001b[1;32mdef\u001b[0m \u001b[0m_setitem_slice\u001b[0m\u001b[1;33m(\u001b[0m\u001b[0mself\u001b[0m\u001b[1;33m,\u001b[0m \u001b[0mkey\u001b[0m\u001b[1;33m:\u001b[0m \u001b[0mslice\u001b[0m\u001b[1;33m,\u001b[0m \u001b[0mvalue\u001b[0m\u001b[1;33m)\u001b[0m\u001b[1;33m:\u001b[0m\u001b[1;33m\u001b[0m\u001b[1;33m\u001b[0m\u001b[0m\n",
      "\u001b[1;32mC:\\ProgramData\\Anaconda3\\lib\\site-packages\\pandas\\core\\frame.py\u001b[0m in \u001b[0;36m_set_item\u001b[1;34m(self, key, value)\u001b[0m\n\u001b[0;32m   3782\u001b[0m         \u001b[0mensure\u001b[0m \u001b[0mhomogeneity\u001b[0m\u001b[1;33m.\u001b[0m\u001b[1;33m\u001b[0m\u001b[1;33m\u001b[0m\u001b[0m\n\u001b[0;32m   3783\u001b[0m         \"\"\"\n\u001b[1;32m-> 3784\u001b[1;33m         \u001b[0mvalue\u001b[0m \u001b[1;33m=\u001b[0m \u001b[0mself\u001b[0m\u001b[1;33m.\u001b[0m\u001b[0m_sanitize_column\u001b[0m\u001b[1;33m(\u001b[0m\u001b[0mvalue\u001b[0m\u001b[1;33m)\u001b[0m\u001b[1;33m\u001b[0m\u001b[1;33m\u001b[0m\u001b[0m\n\u001b[0m\u001b[0;32m   3785\u001b[0m \u001b[1;33m\u001b[0m\u001b[0m\n\u001b[0;32m   3786\u001b[0m         if (\n",
      "\u001b[1;32mC:\\ProgramData\\Anaconda3\\lib\\site-packages\\pandas\\core\\frame.py\u001b[0m in \u001b[0;36m_sanitize_column\u001b[1;34m(self, value)\u001b[0m\n\u001b[0;32m   4507\u001b[0m \u001b[1;33m\u001b[0m\u001b[0m\n\u001b[0;32m   4508\u001b[0m         \u001b[1;32mif\u001b[0m \u001b[0mis_list_like\u001b[0m\u001b[1;33m(\u001b[0m\u001b[0mvalue\u001b[0m\u001b[1;33m)\u001b[0m\u001b[1;33m:\u001b[0m\u001b[1;33m\u001b[0m\u001b[1;33m\u001b[0m\u001b[0m\n\u001b[1;32m-> 4509\u001b[1;33m             \u001b[0mcom\u001b[0m\u001b[1;33m.\u001b[0m\u001b[0mrequire_length_match\u001b[0m\u001b[1;33m(\u001b[0m\u001b[0mvalue\u001b[0m\u001b[1;33m,\u001b[0m \u001b[0mself\u001b[0m\u001b[1;33m.\u001b[0m\u001b[0mindex\u001b[0m\u001b[1;33m)\u001b[0m\u001b[1;33m\u001b[0m\u001b[1;33m\u001b[0m\u001b[0m\n\u001b[0m\u001b[0;32m   4510\u001b[0m         \u001b[1;32mreturn\u001b[0m \u001b[0msanitize_array\u001b[0m\u001b[1;33m(\u001b[0m\u001b[0mvalue\u001b[0m\u001b[1;33m,\u001b[0m \u001b[0mself\u001b[0m\u001b[1;33m.\u001b[0m\u001b[0mindex\u001b[0m\u001b[1;33m,\u001b[0m \u001b[0mcopy\u001b[0m\u001b[1;33m=\u001b[0m\u001b[1;32mTrue\u001b[0m\u001b[1;33m,\u001b[0m \u001b[0mallow_2d\u001b[0m\u001b[1;33m=\u001b[0m\u001b[1;32mTrue\u001b[0m\u001b[1;33m)\u001b[0m\u001b[1;33m\u001b[0m\u001b[1;33m\u001b[0m\u001b[0m\n\u001b[0;32m   4511\u001b[0m \u001b[1;33m\u001b[0m\u001b[0m\n",
      "\u001b[1;32mC:\\ProgramData\\Anaconda3\\lib\\site-packages\\pandas\\core\\common.py\u001b[0m in \u001b[0;36mrequire_length_match\u001b[1;34m(data, index)\u001b[0m\n\u001b[0;32m    529\u001b[0m     \"\"\"\n\u001b[0;32m    530\u001b[0m     \u001b[1;32mif\u001b[0m \u001b[0mlen\u001b[0m\u001b[1;33m(\u001b[0m\u001b[0mdata\u001b[0m\u001b[1;33m)\u001b[0m \u001b[1;33m!=\u001b[0m \u001b[0mlen\u001b[0m\u001b[1;33m(\u001b[0m\u001b[0mindex\u001b[0m\u001b[1;33m)\u001b[0m\u001b[1;33m:\u001b[0m\u001b[1;33m\u001b[0m\u001b[1;33m\u001b[0m\u001b[0m\n\u001b[1;32m--> 531\u001b[1;33m         raise ValueError(\n\u001b[0m\u001b[0;32m    532\u001b[0m             \u001b[1;34m\"Length of values \"\u001b[0m\u001b[1;33m\u001b[0m\u001b[1;33m\u001b[0m\u001b[0m\n\u001b[0;32m    533\u001b[0m             \u001b[1;34mf\"({len(data)}) \"\u001b[0m\u001b[1;33m\u001b[0m\u001b[1;33m\u001b[0m\u001b[0m\n",
      "\u001b[1;31mValueError\u001b[0m: Length of values (12707) does not match length of index (12970)"
     ]
    }
   ],
   "source": [
    "import math\n",
    "spaExpense = []\n",
    "for w in df.Spa:\n",
    "    if w > 0 and math.isnan(w) == False:\n",
    "        spaExpense.append(1)\n",
    "    else:\n",
    "        if math.isnan(w) == False:\n",
    "            spaExpense.append(0)\n",
    "        else:\n",
    "            spaExpense.append(float('nan'))\n",
    "roomServiceExpense = []\n",
    "for w in df.RoomService:\n",
    "    if w > 0 and math.isnan(w) == False:\n",
    "        roomServiceExpense.append(1)\n",
    "    else:\n",
    "        if math.isnan(w) == False:\n",
    "            roomServiceExpense.append(0)\n",
    "        else:\n",
    "            roomServiceExpense.append(float('nan'))\n",
    "foodCourtExpense = []\n",
    "for w in df.RoomService:\n",
    "    if w > 0 and math.isnan(w) == False:\n",
    "        roomServiceExpense.append(1)\n",
    "    else:\n",
    "        if math.isnan(w) == False:\n",
    "            roomServiceExpense.append(0)\n",
    "        else:\n",
    "            roomServiceExpense.append(float('nan'))\n",
    "df['roomServiceExpense'] = roomServiceExpense\n",
    "df['foodCourtExpense'] = foodCourtExpense\n",
    "df['SpaExpense'] = spaExpense"
   ]
  },
  {
   "cell_type": "code",
   "execution_count": 324,
   "id": "59bfbfd3",
   "metadata": {},
   "outputs": [
    {
     "data": {
      "text/plain": [
       "roomServiceExpense  VIP  \n",
       "0                   False    8240\n",
       "                    True      134\n",
       "1                   False    4161\n",
       "                    True      139\n",
       "Name: VIP, dtype: int64"
      ]
     },
     "execution_count": 324,
     "metadata": {},
     "output_type": "execute_result"
    }
   ],
   "source": [
    "df.groupby(['roomServiceExpense'])['VIP'].value_counts()"
   ]
  },
  {
   "cell_type": "markdown",
   "id": "fd6afd3b",
   "metadata": {},
   "source": [
    "#### Most VIPs request for Room Service"
   ]
  },
  {
   "cell_type": "code",
   "execution_count": 319,
   "id": "bbb25886",
   "metadata": {},
   "outputs": [],
   "source": [
    "def roomService_vip(df):\n",
    "    df.loc[(df['VIP'].isna()) & (df['roomServiceExpense'] == 0), 'VIP'] = False\n",
    "    df.loc[(df['VIP'].isna()) & (df['roomServiceExpense'] == 1), 'VIP'] = True\n",
    "    return df"
   ]
  },
  {
   "cell_type": "code",
   "execution_count": 325,
   "id": "c3229490",
   "metadata": {},
   "outputs": [
    {
     "data": {
      "text/plain": [
       "0"
      ]
     },
     "execution_count": 325,
     "metadata": {},
     "output_type": "execute_result"
    }
   ],
   "source": [
    "df = roomService_vip(df)\n",
    "df.VIP.isna().sum()"
   ]
  },
  {
   "cell_type": "code",
   "execution_count": null,
   "id": "2da48964",
   "metadata": {},
   "outputs": [],
   "source": []
  }
 ],
 "metadata": {
  "kernelspec": {
   "display_name": "Python 3 (ipykernel)",
   "language": "python",
   "name": "python3"
  },
  "language_info": {
   "codemirror_mode": {
    "name": "ipython",
    "version": 3
   },
   "file_extension": ".py",
   "mimetype": "text/x-python",
   "name": "python",
   "nbconvert_exporter": "python",
   "pygments_lexer": "ipython3",
   "version": "3.9.7"
  }
 },
 "nbformat": 4,
 "nbformat_minor": 5
}
