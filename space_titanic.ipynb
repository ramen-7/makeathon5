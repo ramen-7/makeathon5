{
  "cells": [
    {
      "cell_type": "markdown",
      "id": "f103cf7f",
      "metadata": {
        "id": "f103cf7f",
        "papermill": {
          "duration": 0.017756,
          "end_time": "2022-12-24T17:07:01.162150",
          "exception": false,
          "start_time": "2022-12-24T17:07:01.144394",
          "status": "completed"
        },
        "tags": []
      },
      "source": [
        "**1.Importing necessary libraries**"
      ]
    },
    {
      "cell_type": "code",
      "execution_count": 23,
      "id": "07b9b659",
      "metadata": {
        "_cell_guid": "0cfe2334-113b-4f61-bb84-6b29ebe5cc7e",
        "_uuid": "8fd78f5e-805b-43bb-ac43-55254d27c773",
        "execution": {
          "iopub.execute_input": "2022-12-24T17:07:01.197106Z",
          "iopub.status.busy": "2022-12-24T17:07:01.196163Z",
          "iopub.status.idle": "2022-12-24T17:07:11.741336Z",
          "shell.execute_reply": "2022-12-24T17:07:11.740208Z"
        },
        "id": "07b9b659",
        "jupyter": {
          "outputs_hidden": false
        },
        "papermill": {
          "duration": 10.565736,
          "end_time": "2022-12-24T17:07:11.744253",
          "exception": false,
          "start_time": "2022-12-24T17:07:01.178517",
          "status": "completed"
        },
        "tags": []
      },
      "outputs": [],
      "source": [
        "import pandas as pd\n",
        "import numpy as np\n",
        "import base64\n",
        "import seaborn as sns\n",
        "import matplotlib.pyplot as plt\n",
        "import os\n",
        "import random\n",
        "import gc\n",
        "from sklearn.impute import SimpleImputer\n",
        "from sklearn.preprocessing import OneHotEncoder\n",
        "from sklearn.metrics import mean_absolute_error\n",
        "from sklearn.impute import SimpleImputer\n",
        "from sklearn.preprocessing import OneHotEncoder\n",
        "from sklearn.preprocessing import StandardScaler\n",
        "from sklearn.utils import shuffle\n",
        "from sklearn.model_selection import train_test_split\n",
        "from sklearn.utils import shuffle\n",
        "from sklearn.metrics import log_loss\n",
        "from sklearn.metrics import accuracy_score\n",
        "import optuna\n",
        "import xgboost as xgb\n",
        "from sklearn.ensemble import (RandomForestClassifier, AdaBoostClassifier, GradientBoostingClassifier, \n",
        "                              ExtraTreesClassifier, VotingClassifier)\n",
        "from sklearn.discriminant_analysis import LinearDiscriminantAnalysis\n",
        "from sklearn.linear_model import LogisticRegression\n",
        "from sklearn.neighbors import KNeighborsClassifier\n",
        "from sklearn.tree import DecisionTreeClassifier\n",
        "from sklearn.neural_network import MLPClassifier\n",
        "from catboost import CatBoostClassifier\n",
        "from sklearn.svm import SVC\n",
        "from sklearn import datasets, linear_model\n",
        "import lightgbm as lgb\n",
        "from sklearn.model_selection import cross_val_score\n",
        "from sklearn.model_selection import StratifiedKFold\n",
        "from sklearn.model_selection import train_test_split\n",
        "from sklearn.ensemble import RandomForestClassifier"
      ]
    },
    {
      "cell_type": "markdown",
      "id": "fc425a07",
      "metadata": {
        "id": "fc425a07",
        "papermill": {
          "duration": 0.016349,
          "end_time": "2022-12-24T17:07:11.777315",
          "exception": false,
          "start_time": "2022-12-24T17:07:11.760966",
          "status": "completed"
        },
        "tags": []
      },
      "source": [
        "**2.Loading datasets**"
      ]
    },
    {
      "cell_type": "code",
      "execution_count": 28,
      "id": "da459ecc",
      "metadata": {
        "_cell_guid": "aec5ba70-d2ee-4148-a962-ee07d5acb350",
        "_uuid": "8a40a6ab-5d88-458f-ba89-88887ab7387f",
        "execution": {
          "iopub.execute_input": "2022-12-24T17:07:11.813649Z",
          "iopub.status.busy": "2022-12-24T17:07:11.812776Z",
          "iopub.status.idle": "2022-12-24T17:07:11.899962Z",
          "shell.execute_reply": "2022-12-24T17:07:11.898872Z"
        },
        "id": "da459ecc",
        "jupyter": {
          "outputs_hidden": false
        },
        "papermill": {
          "duration": 0.10905,
          "end_time": "2022-12-24T17:07:11.903055",
          "exception": false,
          "start_time": "2022-12-24T17:07:11.794005",
          "status": "completed"
        },
        "tags": []
      },
      "outputs": [],
      "source": [
        "test = pd.read_csv('/content/test.csv')\n",
        "train = pd.read_csv('/content/train.csv')"
      ]
    },
    {
      "cell_type": "code",
      "execution_count": 59,
      "id": "dUmRjhS5pcSG",
      "metadata": {
        "id": "dUmRjhS5pcSG"
      },
      "outputs": [],
      "source": [
        "sample = pd.read_csv('/content/sample_submission.csv')\n"
      ]
    },
    {
      "cell_type": "markdown",
      "id": "1547df11",
      "metadata": {
        "id": "1547df11",
        "papermill": {
          "duration": 0.016614,
          "end_time": "2022-12-24T17:07:11.936165",
          "exception": false,
          "start_time": "2022-12-24T17:07:11.919551",
          "status": "completed"
        },
        "tags": []
      },
      "source": [
        "**3.Miss information analysis** "
      ]
    },
    {
      "cell_type": "code",
      "execution_count": 29,
      "id": "3995c2da",
      "metadata": {
        "_cell_guid": "104e3e04-0654-45ec-8597-5302064eb934",
        "_uuid": "1555e4b9-45b4-4659-9296-8a9b15b99257",
        "colab": {
          "base_uri": "https://localhost:8080/"
        },
        "execution": {
          "iopub.execute_input": "2022-12-24T17:07:11.970591Z",
          "iopub.status.busy": "2022-12-24T17:07:11.970197Z",
          "iopub.status.idle": "2022-12-24T17:07:12.751341Z",
          "shell.execute_reply": "2022-12-24T17:07:12.750572Z"
        },
        "id": "3995c2da",
        "jupyter": {
          "outputs_hidden": false
        },
        "outputId": "f01ecd73-be1a-4203-d032-5e2324f951cf",
        "papermill": {
          "duration": 0.800973,
          "end_time": "2022-12-24T17:07:12.753412",
          "exception": false,
          "start_time": "2022-12-24T17:07:11.952439",
          "status": "completed"
        },
        "tags": []
      },
      "outputs": [
        {
          "name": "stdout",
          "output_type": "stream",
          "text": [
            "PassengerId       0\n",
            "HomePlanet      201\n",
            "CryoSleep       217\n",
            "Cabin           199\n",
            "Destination     182\n",
            "Age             179\n",
            "VIP             203\n",
            "RoomService     181\n",
            "FoodCourt       183\n",
            "ShoppingMall    208\n",
            "Spa             183\n",
            "VRDeck          188\n",
            "Name            200\n",
            "Transported       0\n",
            "dtype: int64\n"
          ]
        }
      ],
      "source": [
        "print(train.isnull().sum())"
      ]
    },
    {
      "cell_type": "markdown",
      "id": "1527b643",
      "metadata": {
        "id": "1527b643",
        "papermill": {
          "duration": 0.017412,
          "end_time": "2022-12-24T17:07:13.287261",
          "exception": false,
          "start_time": "2022-12-24T17:07:13.269849",
          "status": "completed"
        },
        "tags": []
      },
      "source": [
        "**4.Preprocessing**"
      ]
    },
    {
      "cell_type": "code",
      "execution_count": 30,
      "id": "9a85c60d",
      "metadata": {
        "_cell_guid": "42209329-7286-4a08-9532-97146ff138ab",
        "_uuid": "0ef91b11-c3bb-4d23-93bb-cdb6d8cd291d",
        "execution": {
          "iopub.execute_input": "2022-12-24T17:07:13.509875Z",
          "iopub.status.busy": "2022-12-24T17:07:13.509117Z",
          "iopub.status.idle": "2022-12-24T17:07:13.520064Z",
          "shell.execute_reply": "2022-12-24T17:07:13.519247Z"
        },
        "id": "9a85c60d",
        "jupyter": {
          "outputs_hidden": false
        },
        "papermill": {
          "duration": 0.032442,
          "end_time": "2022-12-24T17:07:13.522413",
          "exception": false,
          "start_time": "2022-12-24T17:07:13.489971",
          "status": "completed"
        },
        "tags": []
      },
      "outputs": [],
      "source": [
        "train_test=train.append(test)\n",
        "train_test=train_test.drop(['Name'],axis=1)"
      ]
    },
    {
      "cell_type": "code",
      "execution_count": 31,
      "id": "e054e986",
      "metadata": {
        "_cell_guid": "54e28c8e-697a-4c88-bca3-6c1675f352ec",
        "_uuid": "dcb50715-f809-4fdf-b26a-a08f37068a33",
        "colab": {
          "base_uri": "https://localhost:8080/",
          "height": 588
        },
        "execution": {
          "iopub.execute_input": "2022-12-24T17:07:13.560669Z",
          "iopub.status.busy": "2022-12-24T17:07:13.560224Z",
          "iopub.status.idle": "2022-12-24T17:07:14.172467Z",
          "shell.execute_reply": "2022-12-24T17:07:14.171604Z"
        },
        "id": "e054e986",
        "jupyter": {
          "outputs_hidden": false
        },
        "outputId": "d254d0ab-f254-4be4-8f66-04e12a5a3993",
        "papermill": {
          "duration": 0.634256,
          "end_time": "2022-12-24T17:07:14.174820",
          "exception": false,
          "start_time": "2022-12-24T17:07:13.540564",
          "status": "completed"
        },
        "tags": []
      },
      "outputs": [
        {
          "name": "stdout",
          "output_type": "stream",
          "text": [
            "PassengerId        0\n",
            "HomePlanet       288\n",
            "CryoSleep        310\n",
            "Cabin            299\n",
            "Destination      274\n",
            "Age              270\n",
            "VIP              296\n",
            "RoomService      263\n",
            "FoodCourt        289\n",
            "ShoppingMall     306\n",
            "Spa              284\n",
            "VRDeck           268\n",
            "Transported     4277\n",
            "dtype: int64\n"
          ]
        },
        {
          "data": {
            "text/plain": [
              "<AxesSubplot:>"
            ]
          },
          "execution_count": 31,
          "metadata": {},
          "output_type": "execute_result"
        },
        {
          "data": {
            "image/png": "[encoded data removed]",
            "text/plain": [
              "<Figure size 432x288 with 2 Axes>"
            ]
          },
          "metadata": {
            "needs_background": "light"
          },
          "output_type": "display_data"
        }
      ],
      "source": [
        "print(train_test.isnull().sum())\n",
        "sns.heatmap(train_test.isnull())"
      ]
    },
    {
      "cell_type": "markdown",
      "id": "203e2e8c",
      "metadata": {
        "id": "203e2e8c",
        "papermill": {
          "duration": 0.018585,
          "end_time": "2022-12-24T17:07:14.212155",
          "exception": false,
          "start_time": "2022-12-24T17:07:14.193570",
          "status": "completed"
        },
        "tags": []
      },
      "source": [
        "**4.1.Expenses+CryoSleep**"
      ]
    },
    {
      "cell_type": "code",
      "execution_count": 32,
      "id": "2b620d54",
      "metadata": {
        "_cell_guid": "2f78e892-9961-4846-ab4f-8bea9074e566",
        "_uuid": "eec7f859-db11-4e3a-a6c2-0d38e7a1b626",
        "execution": {
          "iopub.execute_input": "2022-12-24T17:07:14.251566Z",
          "iopub.status.busy": "2022-12-24T17:07:14.250676Z",
          "iopub.status.idle": "2022-12-24T17:07:14.255455Z",
          "shell.execute_reply": "2022-12-24T17:07:14.254683Z"
        },
        "id": "2b620d54",
        "jupyter": {
          "outputs_hidden": false
        },
        "papermill": {
          "duration": 0.027046,
          "end_time": "2022-12-24T17:07:14.257755",
          "exception": false,
          "start_time": "2022-12-24T17:07:14.230709",
          "status": "completed"
        },
        "tags": []
      },
      "outputs": [],
      "source": [
        "Expenses_columns = ['RoomService','FoodCourt','ShoppingMall','Spa','VRDeck']"
      ]
    },
    {
      "cell_type": "code",
      "execution_count": 33,
      "id": "af60bbae",
      "metadata": {
        "_cell_guid": "5123c8df-f7b5-4bf6-ab42-6bfe0680010f",
        "_uuid": "f89382b1-97b1-49fb-9de5-00d9c8a070b1",
        "execution": {
          "iopub.execute_input": "2022-12-24T17:07:14.342484Z",
          "iopub.status.busy": "2022-12-24T17:07:14.342078Z",
          "iopub.status.idle": "2022-12-24T17:07:15.303743Z",
          "shell.execute_reply": "2022-12-24T17:07:15.302570Z"
        },
        "id": "af60bbae",
        "jupyter": {
          "outputs_hidden": false
        },
        "papermill": {
          "duration": 0.984679,
          "end_time": "2022-12-24T17:07:15.306686",
          "exception": false,
          "start_time": "2022-12-24T17:07:14.322007",
          "status": "completed"
        },
        "tags": []
      },
      "outputs": [],
      "source": [
        "train_test.loc[:,Expenses_columns]=train_test.apply(lambda x: 0 if x.CryoSleep == True else x,axis =1)"
      ]
    },
    {
      "cell_type": "markdown",
      "id": "f02fe04c",
      "metadata": {
        "id": "f02fe04c",
        "papermill": {
          "duration": 0.018261,
          "end_time": "2022-12-24T17:07:15.358933",
          "exception": false,
          "start_time": "2022-12-24T17:07:15.340672",
          "status": "completed"
        },
        "tags": []
      },
      "source": [
        "**4.2.CryoSleep + Expenses**"
      ]
    },
    {
      "cell_type": "code",
      "execution_count": 34,
      "id": "a6eb68a0",
      "metadata": {
        "_cell_guid": "68a3af2d-f7ba-44a0-a854-9b0dd1fed38a",
        "_uuid": "f289b27f-cce7-4c8b-9736-cc6abe483d2b",
        "execution": {
          "iopub.execute_input": "2022-12-24T17:07:15.487642Z",
          "iopub.status.busy": "2022-12-24T17:07:15.487203Z",
          "iopub.status.idle": "2022-12-24T17:07:15.495063Z",
          "shell.execute_reply": "2022-12-24T17:07:15.494007Z"
        },
        "id": "a6eb68a0",
        "jupyter": {
          "outputs_hidden": false
        },
        "papermill": {
          "duration": 0.03007,
          "end_time": "2022-12-24T17:07:15.497306",
          "exception": false,
          "start_time": "2022-12-24T17:07:15.467236",
          "status": "completed"
        },
        "tags": []
      },
      "outputs": [],
      "source": [
        "train_test['Expenses'] = train_test.loc[:,Expenses_columns].sum(axis=1)"
      ]
    },
    {
      "cell_type": "code",
      "execution_count": 35,
      "id": "282d8fba",
      "metadata": {
        "_cell_guid": "255f9952-70b6-4e3d-adbc-834b3ce33889",
        "_uuid": "0020e5cc-fd11-4b7a-bbd6-e44d63417d05",
        "execution": {
          "iopub.execute_input": "2022-12-24T17:07:15.537250Z",
          "iopub.status.busy": "2022-12-24T17:07:15.536846Z",
          "iopub.status.idle": "2022-12-24T17:07:16.628615Z",
          "shell.execute_reply": "2022-12-24T17:07:16.627693Z"
        },
        "id": "282d8fba",
        "jupyter": {
          "outputs_hidden": false
        },
        "papermill": {
          "duration": 1.115324,
          "end_time": "2022-12-24T17:07:16.631274",
          "exception": false,
          "start_time": "2022-12-24T17:07:15.515950",
          "status": "completed"
        },
        "tags": []
      },
      "outputs": [],
      "source": [
        "train_test.loc[:,['CryoSleep']]=train_test.apply(lambda x: True if x.Expenses == 0 and pd.isna(x.CryoSleep) else x,axis =1)"
      ]
    },
    {
      "cell_type": "markdown",
      "id": "aec23b14",
      "metadata": {
        "id": "aec23b14",
        "papermill": {
          "duration": 0.018615,
          "end_time": "2022-12-24T17:07:16.799580",
          "exception": false,
          "start_time": "2022-12-24T17:07:16.780965",
          "status": "completed"
        },
        "tags": []
      },
      "source": [
        "**4.3.Cabin**"
      ]
    },
    {
      "cell_type": "code",
      "execution_count": 36,
      "id": "bc56db46",
      "metadata": {
        "_cell_guid": "55c9b0a0-0a9f-4d1c-b137-5de0a9108f92",
        "_uuid": "7cfc7ce5-2687-45dd-af7c-9ff64a172c0a",
        "execution": {
          "iopub.execute_input": "2022-12-24T17:07:16.883885Z",
          "iopub.status.busy": "2022-12-24T17:07:16.883191Z",
          "iopub.status.idle": "2022-12-24T17:07:16.984181Z",
          "shell.execute_reply": "2022-12-24T17:07:16.982941Z"
        },
        "id": "bc56db46",
        "jupyter": {
          "outputs_hidden": false
        },
        "papermill": {
          "duration": 0.123621,
          "end_time": "2022-12-24T17:07:16.986866",
          "exception": false,
          "start_time": "2022-12-24T17:07:16.863245",
          "status": "completed"
        },
        "tags": []
      },
      "outputs": [],
      "source": [
        "train_test.loc[:,['Room']] = train_test.PassengerId.apply(lambda x: x[0:4] )\n",
        "guide_VIP=train_test.loc[:,['Room','VIP']].dropna().drop_duplicates('Room')\n",
        "guide_Cabin=train_test.loc[:,['Room','Cabin']].dropna().drop_duplicates('Room')\n",
        "guide_HomePlanet=train_test.loc[:,['Room','HomePlanet']].dropna().drop_duplicates('Room')\n",
        "guide_Destination=train_test.loc[:,['Room','Destination']].dropna().drop_duplicates('Room')\n",
        "train_test=pd.merge(train_test,guide_Cabin,how=\"left\",on='Room',suffixes=('','_y'))\n",
        "train_test=pd.merge(train_test,guide_VIP,how=\"left\",on='Room',suffixes=('','_y'))\n",
        "train_test=pd.merge(train_test,guide_HomePlanet,how=\"left\",on='Room',suffixes=('','_y'))\n",
        "train_test=pd.merge(train_test,guide_Destination,how=\"left\",on='Room',suffixes=('','_y'))"
      ]
    },
    {
      "cell_type": "code",
      "execution_count": 37,
      "id": "22ef1073",
      "metadata": {
        "_cell_guid": "96d3b49a-466a-4ca8-9505-2765cd1dd233",
        "_uuid": "abf325cf-993f-4ea9-bf4f-b02455c19981",
        "execution": {
          "iopub.execute_input": "2022-12-24T17:07:17.026079Z",
          "iopub.status.busy": "2022-12-24T17:07:17.025233Z",
          "iopub.status.idle": "2022-12-24T17:07:21.423921Z",
          "shell.execute_reply": "2022-12-24T17:07:21.422919Z"
        },
        "id": "22ef1073",
        "jupyter": {
          "outputs_hidden": false
        },
        "papermill": {
          "duration": 4.420933,
          "end_time": "2022-12-24T17:07:21.426515",
          "exception": false,
          "start_time": "2022-12-24T17:07:17.005582",
          "status": "completed"
        },
        "tags": []
      },
      "outputs": [],
      "source": [
        "train_test.loc[:,['VIP']]=train_test.apply(lambda x: x.VIP_y if pd.isna(x.VIP) else x,axis=1)\n",
        "train_test.loc[:,['Cabin']]=train_test.apply(lambda x:  x.Cabin_y if pd.isna(x.Cabin) else x,axis=1)\n",
        "train_test.loc[:,['HomePlanet']]=train_test.apply(lambda x:  x.HomePlanet_y if pd.isna(x.HomePlanet) else x,axis=1)\n",
        "train_test.loc[:,['Destination']]=train_test.apply(lambda x:  x.Destination_y if pd.isna(x.Destination) else x,axis=1)"
      ]
    },
    {
      "cell_type": "code",
      "execution_count": 38,
      "id": "9e5d0fec",
      "metadata": {
        "_cell_guid": "d572a7ce-657b-4b87-a0b8-0437682fc064",
        "_uuid": "921262b1-d0d1-40ad-ac90-fc3cdebd5d90",
        "colab": {
          "base_uri": "https://localhost:8080/",
          "height": 661
        },
        "execution": {
          "iopub.execute_input": "2022-12-24T17:07:21.465832Z",
          "iopub.status.busy": "2022-12-24T17:07:21.465416Z",
          "iopub.status.idle": "2022-12-24T17:07:21.504424Z",
          "shell.execute_reply": "2022-12-24T17:07:21.503108Z"
        },
        "id": "9e5d0fec",
        "jupyter": {
          "outputs_hidden": false
        },
        "outputId": "f5c8f447-7771-4b7a-9609-02a129b54d4a",
        "papermill": {
          "duration": 0.061948,
          "end_time": "2022-12-24T17:07:21.506927",
          "exception": false,
          "start_time": "2022-12-24T17:07:21.444979",
          "status": "completed"
        },
        "tags": []
      },
      "outputs": [
        {
          "data": {
            "text/html": [
              "\n",
              "  <div id=\"df-10e307f0-96d4-4954-b08d-84aacff642fc\">\n",
              "    <div class=\"colab-df-container\">\n",
              "      <div>\n",
              "<style scoped>\n",
              "    .dataframe tbody tr th:only-of-type {\n",
              "        vertical-align: middle;\n",
              "    }\n",
              "\n",
              "    .dataframe tbody tr th {\n",
              "        vertical-align: top;\n",
              "    }\n",
              "\n",
              "    .dataframe thead th {\n",
              "        text-align: right;\n",
              "    }\n",
              "</style>\n",
              "<table border=\"1\" class=\"dataframe\">\n",
              "  <thead>\n",
              "    <tr style=\"text-align: right;\">\n",
              "      <th></th>\n",
              "      <th>PassengerId</th>\n",
              "      <th>HomePlanet</th>\n",
              "      <th>CryoSleep</th>\n",
              "      <th>Cabin</th>\n",
              "      <th>Destination</th>\n",
              "      <th>Age</th>\n",
              "      <th>VIP</th>\n",
              "      <th>RoomService</th>\n",
              "      <th>FoodCourt</th>\n",
              "      <th>ShoppingMall</th>\n",
              "      <th>Spa</th>\n",
              "      <th>VRDeck</th>\n",
              "      <th>Transported</th>\n",
              "      <th>Expenses</th>\n",
              "      <th>Room</th>\n",
              "      <th>Cabin_y</th>\n",
              "      <th>VIP_y</th>\n",
              "      <th>HomePlanet_y</th>\n",
              "      <th>Destination_y</th>\n",
              "    </tr>\n",
              "  </thead>\n",
              "  <tbody>\n",
              "    <tr>\n",
              "      <th>15</th>\n",
              "      <td>0012_01</td>\n",
              "      <td>Earth</td>\n",
              "      <td>False</td>\n",
              "      <td>NaN</td>\n",
              "      <td>TRAPPIST-1e</td>\n",
              "      <td>31.0</td>\n",
              "      <td>False</td>\n",
              "      <td>32.0</td>\n",
              "      <td>0.0</td>\n",
              "      <td>876.0</td>\n",
              "      <td>0.0</td>\n",
              "      <td>0.0</td>\n",
              "      <td>False</td>\n",
              "      <td>908.0</td>\n",
              "      <td>0012</td>\n",
              "      <td>NaN</td>\n",
              "      <td>False</td>\n",
              "      <td>Earth</td>\n",
              "      <td>TRAPPIST-1e</td>\n",
              "    </tr>\n",
              "    <tr>\n",
              "      <th>93</th>\n",
              "      <td>0101_01</td>\n",
              "      <td>Mars</td>\n",
              "      <td>True</td>\n",
              "      <td>NaN</td>\n",
              "      <td>TRAPPIST-1e</td>\n",
              "      <td>31.0</td>\n",
              "      <td>False</td>\n",
              "      <td>0.0</td>\n",
              "      <td>0.0</td>\n",
              "      <td>0.0</td>\n",
              "      <td>0.0</td>\n",
              "      <td>0.0</td>\n",
              "      <td>True</td>\n",
              "      <td>0.0</td>\n",
              "      <td>0101</td>\n",
              "      <td>NaN</td>\n",
              "      <td>False</td>\n",
              "      <td>Mars</td>\n",
              "      <td>TRAPPIST-1e</td>\n",
              "    </tr>\n",
              "    <tr>\n",
              "      <th>222</th>\n",
              "      <td>0239_01</td>\n",
              "      <td>Mars</td>\n",
              "      <td>False</td>\n",
              "      <td>NaN</td>\n",
              "      <td>TRAPPIST-1e</td>\n",
              "      <td>37.0</td>\n",
              "      <td>False</td>\n",
              "      <td>637.0</td>\n",
              "      <td>0.0</td>\n",
              "      <td>0.0</td>\n",
              "      <td>92.0</td>\n",
              "      <td>319.0</td>\n",
              "      <td>False</td>\n",
              "      <td>1048.0</td>\n",
              "      <td>0239</td>\n",
              "      <td>NaN</td>\n",
              "      <td>False</td>\n",
              "      <td>Mars</td>\n",
              "      <td>TRAPPIST-1e</td>\n",
              "    </tr>\n",
              "    <tr>\n",
              "      <th>272</th>\n",
              "      <td>0301_01</td>\n",
              "      <td>Earth</td>\n",
              "      <td>True</td>\n",
              "      <td>NaN</td>\n",
              "      <td>TRAPPIST-1e</td>\n",
              "      <td>16.0</td>\n",
              "      <td>False</td>\n",
              "      <td>0.0</td>\n",
              "      <td>0.0</td>\n",
              "      <td>0.0</td>\n",
              "      <td>0.0</td>\n",
              "      <td>0.0</td>\n",
              "      <td>False</td>\n",
              "      <td>0.0</td>\n",
              "      <td>0301</td>\n",
              "      <td>NaN</td>\n",
              "      <td>False</td>\n",
              "      <td>Earth</td>\n",
              "      <td>TRAPPIST-1e</td>\n",
              "    </tr>\n",
              "    <tr>\n",
              "      <th>280</th>\n",
              "      <td>0310_01</td>\n",
              "      <td>Europa</td>\n",
              "      <td>False</td>\n",
              "      <td>NaN</td>\n",
              "      <td>TRAPPIST-1e</td>\n",
              "      <td>67.0</td>\n",
              "      <td>False</td>\n",
              "      <td>NaN</td>\n",
              "      <td>230.0</td>\n",
              "      <td>0.0</td>\n",
              "      <td>4476.0</td>\n",
              "      <td>241.0</td>\n",
              "      <td>False</td>\n",
              "      <td>4947.0</td>\n",
              "      <td>0310</td>\n",
              "      <td>NaN</td>\n",
              "      <td>False</td>\n",
              "      <td>Europa</td>\n",
              "      <td>TRAPPIST-1e</td>\n",
              "    </tr>\n",
              "    <tr>\n",
              "      <th>...</th>\n",
              "      <td>...</td>\n",
              "      <td>...</td>\n",
              "      <td>...</td>\n",
              "      <td>...</td>\n",
              "      <td>...</td>\n",
              "      <td>...</td>\n",
              "      <td>...</td>\n",
              "      <td>...</td>\n",
              "      <td>...</td>\n",
              "      <td>...</td>\n",
              "      <td>...</td>\n",
              "      <td>...</td>\n",
              "      <td>...</td>\n",
              "      <td>...</td>\n",
              "      <td>...</td>\n",
              "      <td>...</td>\n",
              "      <td>...</td>\n",
              "      <td>...</td>\n",
              "      <td>...</td>\n",
              "    </tr>\n",
              "    <tr>\n",
              "      <th>12869</th>\n",
              "      <td>9058_01</td>\n",
              "      <td>Mars</td>\n",
              "      <td>False</td>\n",
              "      <td>NaN</td>\n",
              "      <td>TRAPPIST-1e</td>\n",
              "      <td>38.0</td>\n",
              "      <td>NaN</td>\n",
              "      <td>784.0</td>\n",
              "      <td>0.0</td>\n",
              "      <td>42.0</td>\n",
              "      <td>38.0</td>\n",
              "      <td>10.0</td>\n",
              "      <td>NaN</td>\n",
              "      <td>874.0</td>\n",
              "      <td>9058</td>\n",
              "      <td>NaN</td>\n",
              "      <td>NaN</td>\n",
              "      <td>Mars</td>\n",
              "      <td>TRAPPIST-1e</td>\n",
              "    </tr>\n",
              "    <tr>\n",
              "      <th>12902</th>\n",
              "      <td>9138_01</td>\n",
              "      <td>Europa</td>\n",
              "      <td>NaN</td>\n",
              "      <td>NaN</td>\n",
              "      <td>TRAPPIST-1e</td>\n",
              "      <td>41.0</td>\n",
              "      <td>False</td>\n",
              "      <td>0.0</td>\n",
              "      <td>1998.0</td>\n",
              "      <td>0.0</td>\n",
              "      <td>1023.0</td>\n",
              "      <td>867.0</td>\n",
              "      <td>NaN</td>\n",
              "      <td>3888.0</td>\n",
              "      <td>9138</td>\n",
              "      <td>NaN</td>\n",
              "      <td>False</td>\n",
              "      <td>Europa</td>\n",
              "      <td>TRAPPIST-1e</td>\n",
              "    </tr>\n",
              "    <tr>\n",
              "      <th>12941</th>\n",
              "      <td>9223_01</td>\n",
              "      <td>Mars</td>\n",
              "      <td>True</td>\n",
              "      <td>NaN</td>\n",
              "      <td>TRAPPIST-1e</td>\n",
              "      <td>24.0</td>\n",
              "      <td>False</td>\n",
              "      <td>0.0</td>\n",
              "      <td>0.0</td>\n",
              "      <td>0.0</td>\n",
              "      <td>0.0</td>\n",
              "      <td>0.0</td>\n",
              "      <td>NaN</td>\n",
              "      <td>0.0</td>\n",
              "      <td>9223</td>\n",
              "      <td>NaN</td>\n",
              "      <td>False</td>\n",
              "      <td>Mars</td>\n",
              "      <td>TRAPPIST-1e</td>\n",
              "    </tr>\n",
              "    <tr>\n",
              "      <th>12942</th>\n",
              "      <td>9223_02</td>\n",
              "      <td>Mars</td>\n",
              "      <td>True</td>\n",
              "      <td>NaN</td>\n",
              "      <td>TRAPPIST-1e</td>\n",
              "      <td>17.0</td>\n",
              "      <td>False</td>\n",
              "      <td>0.0</td>\n",
              "      <td>0.0</td>\n",
              "      <td>0.0</td>\n",
              "      <td>0.0</td>\n",
              "      <td>0.0</td>\n",
              "      <td>NaN</td>\n",
              "      <td>0.0</td>\n",
              "      <td>9223</td>\n",
              "      <td>NaN</td>\n",
              "      <td>False</td>\n",
              "      <td>Mars</td>\n",
              "      <td>TRAPPIST-1e</td>\n",
              "    </tr>\n",
              "    <tr>\n",
              "      <th>12966</th>\n",
              "      <td>9269_01</td>\n",
              "      <td>Earth</td>\n",
              "      <td>False</td>\n",
              "      <td>NaN</td>\n",
              "      <td>TRAPPIST-1e</td>\n",
              "      <td>42.0</td>\n",
              "      <td>False</td>\n",
              "      <td>0.0</td>\n",
              "      <td>847.0</td>\n",
              "      <td>17.0</td>\n",
              "      <td>10.0</td>\n",
              "      <td>144.0</td>\n",
              "      <td>NaN</td>\n",
              "      <td>1018.0</td>\n",
              "      <td>9269</td>\n",
              "      <td>NaN</td>\n",
              "      <td>False</td>\n",
              "      <td>Earth</td>\n",
              "      <td>TRAPPIST-1e</td>\n",
              "    </tr>\n",
              "  </tbody>\n",
              "</table>\n",
              "<p>162 rows × 19 columns</p>\n",
              "</div>\n",
              "      <button class=\"colab-df-convert\" onclick=\"convertToInteractive('df-10e307f0-96d4-4954-b08d-84aacff642fc')\"\n",
              "              title=\"Convert this dataframe to an interactive table.\"\n",
              "              style=\"display:none;\">\n",
              "        \n",
              "  <svg xmlns=\"http://www.w3.org/2000/svg\" height=\"24px\"viewBox=\"0 0 24 24\"\n",
              "       width=\"24px\">\n",
              "    <path d=\"M0 0h24v24H0V0z\" fill=\"none\"/>\n",
              "    <path d=\"M18.56 5.44l.94 2.06.94-2.06 2.06-.94-2.06-.94-.94-2.06-.94 2.06-2.06.94zm-11 1L8.5 8.5l.94-2.06 2.06-.94-2.06-.94L8.5 2.5l-.94 2.06-2.06.94zm10 10l.94 2.06.94-2.06 2.06-.94-2.06-.94-.94-2.06-.94 2.06-2.06.94z\"/><path d=\"M17.41 7.96l-1.37-1.37c-.4-.4-.92-.59-1.43-.59-.52 0-1.04.2-1.43.59L10.3 9.45l-7.72 7.72c-.78.78-.78 2.05 0 2.83L4 21.41c.39.39.9.59 1.41.59.51 0 1.02-.2 1.41-.59l7.78-7.78 2.81-2.81c.8-.78.8-2.07 0-2.86zM5.41 20L4 18.59l7.72-7.72 1.47 1.35L5.41 20z\"/>\n",
              "  </svg>\n",
              "      </button>\n",
              "      \n",
              "  <style>\n",
              "    .colab-df-container {\n",
              "      display:flex;\n",
              "      flex-wrap:wrap;\n",
              "      gap: 12px;\n",
              "    }\n",
              "\n",
              "    .colab-df-convert {\n",
              "      background-color: #E8F0FE;\n",
              "      border: none;\n",
              "      border-radius: 50%;\n",
              "      cursor: pointer;\n",
              "      display: none;\n",
              "      fill: #1967D2;\n",
              "      height: 32px;\n",
              "      padding: 0 0 0 0;\n",
              "      width: 32px;\n",
              "    }\n",
              "\n",
              "    .colab-df-convert:hover {\n",
              "      background-color: #E2EBFA;\n",
              "      box-shadow: 0px 1px 2px rgba(60, 64, 67, 0.3), 0px 1px 3px 1px rgba(60, 64, 67, 0.15);\n",
              "      fill: #174EA6;\n",
              "    }\n",
              "\n",
              "    [theme=dark] .colab-df-convert {\n",
              "      background-color: #3B4455;\n",
              "      fill: #D2E3FC;\n",
              "    }\n",
              "\n",
              "    [theme=dark] .colab-df-convert:hover {\n",
              "      background-color: #434B5C;\n",
              "      box-shadow: 0px 1px 3px 1px rgba(0, 0, 0, 0.15);\n",
              "      filter: drop-shadow(0px 1px 2px rgba(0, 0, 0, 0.3));\n",
              "      fill: #FFFFFF;\n",
              "    }\n",
              "  </style>\n",
              "\n",
              "      <script>\n",
              "        const buttonEl =\n",
              "          document.querySelector('#df-10e307f0-96d4-4954-b08d-84aacff642fc button.colab-df-convert');\n",
              "        buttonEl.style.display =\n",
              "          google.colab.kernel.accessAllowed ? 'block' : 'none';\n",
              "\n",
              "        async function convertToInteractive(key) {\n",
              "          const element = document.querySelector('#df-10e307f0-96d4-4954-b08d-84aacff642fc');\n",
              "          const dataTable =\n",
              "            await google.colab.kernel.invokeFunction('convertToInteractive',\n",
              "                                                     [key], {});\n",
              "          if (!dataTable) return;\n",
              "\n",
              "          const docLinkHtml = 'Like what you see? Visit the ' +\n",
              "            '<a target=\"_blank\" href=https://colab.research.google.com/notebooks/data_table.ipynb>data table notebook</a>'\n",
              "            + ' to learn more about interactive tables.';\n",
              "          element.innerHTML = '';\n",
              "          dataTable['output_type'] = 'display_data';\n",
              "          await google.colab.output.renderOutput(dataTable, element);\n",
              "          const docLink = document.createElement('div');\n",
              "          docLink.innerHTML = docLinkHtml;\n",
              "          element.appendChild(docLink);\n",
              "        }\n",
              "      </script>\n",
              "    </div>\n",
              "  </div>\n",
              "  "
            ],
            "text/plain": [
              "      PassengerId HomePlanet CryoSleep Cabin  Destination   Age    VIP  \\\n",
              "15        0012_01      Earth     False   NaN  TRAPPIST-1e  31.0  False   \n",
              "93        0101_01       Mars      True   NaN  TRAPPIST-1e  31.0  False   \n",
              "222       0239_01       Mars     False   NaN  TRAPPIST-1e  37.0  False   \n",
              "272       0301_01      Earth      True   NaN  TRAPPIST-1e  16.0  False   \n",
              "280       0310_01     Europa     False   NaN  TRAPPIST-1e  67.0  False   \n",
              "...           ...        ...       ...   ...          ...   ...    ...   \n",
              "12869     9058_01       Mars     False   NaN  TRAPPIST-1e  38.0    NaN   \n",
              "12902     9138_01     Europa       NaN   NaN  TRAPPIST-1e  41.0  False   \n",
              "12941     9223_01       Mars      True   NaN  TRAPPIST-1e  24.0  False   \n",
              "12942     9223_02       Mars      True   NaN  TRAPPIST-1e  17.0  False   \n",
              "12966     9269_01      Earth     False   NaN  TRAPPIST-1e  42.0  False   \n",
              "\n",
              "       RoomService  FoodCourt  ShoppingMall     Spa  VRDeck Transported  \\\n",
              "15            32.0        0.0         876.0     0.0     0.0       False   \n",
              "93             0.0        0.0           0.0     0.0     0.0        True   \n",
              "222          637.0        0.0           0.0    92.0   319.0       False   \n",
              "272            0.0        0.0           0.0     0.0     0.0       False   \n",
              "280            NaN      230.0           0.0  4476.0   241.0       False   \n",
              "...            ...        ...           ...     ...     ...         ...   \n",
              "12869        784.0        0.0          42.0    38.0    10.0         NaN   \n",
              "12902          0.0     1998.0           0.0  1023.0   867.0         NaN   \n",
              "12941          0.0        0.0           0.0     0.0     0.0         NaN   \n",
              "12942          0.0        0.0           0.0     0.0     0.0         NaN   \n",
              "12966          0.0      847.0          17.0    10.0   144.0         NaN   \n",
              "\n",
              "       Expenses  Room Cabin_y  VIP_y HomePlanet_y Destination_y  \n",
              "15        908.0  0012     NaN  False        Earth   TRAPPIST-1e  \n",
              "93          0.0  0101     NaN  False         Mars   TRAPPIST-1e  \n",
              "222      1048.0  0239     NaN  False         Mars   TRAPPIST-1e  \n",
              "272         0.0  0301     NaN  False        Earth   TRAPPIST-1e  \n",
              "280      4947.0  0310     NaN  False       Europa   TRAPPIST-1e  \n",
              "...         ...   ...     ...    ...          ...           ...  \n",
              "12869     874.0  9058     NaN    NaN         Mars   TRAPPIST-1e  \n",
              "12902    3888.0  9138     NaN  False       Europa   TRAPPIST-1e  \n",
              "12941       0.0  9223     NaN  False         Mars   TRAPPIST-1e  \n",
              "12942       0.0  9223     NaN  False         Mars   TRAPPIST-1e  \n",
              "12966    1018.0  9269     NaN  False        Earth   TRAPPIST-1e  \n",
              "\n",
              "[162 rows x 19 columns]"
            ]
          },
          "execution_count": 38,
          "metadata": {},
          "output_type": "execute_result"
        }
      ],
      "source": [
        "train_test[train_test.Cabin.isnull()]"
      ]
    },
    {
      "cell_type": "markdown",
      "id": "f7da9b0b",
      "metadata": {
        "id": "f7da9b0b",
        "papermill": {
          "duration": 0.021717,
          "end_time": "2022-12-24T17:07:24.501075",
          "exception": false,
          "start_time": "2022-12-24T17:07:24.479358",
          "status": "completed"
        },
        "tags": []
      },
      "source": [
        "** 4.6.HomePlanet + Destination.**"
      ]
    },
    {
      "cell_type": "code",
      "execution_count": 41,
      "id": "e27c154c",
      "metadata": {
        "_cell_guid": "bf166194-51e8-4db0-907f-c155419bde97",
        "_uuid": "b9e160ad-3ac2-4dad-9abc-ef4bda63ff85",
        "colab": {
          "base_uri": "https://localhost:8080/",
          "height": 363
        },
        "execution": {
          "iopub.execute_input": "2022-12-24T17:07:24.547213Z",
          "iopub.status.busy": "2022-12-24T17:07:24.546290Z",
          "iopub.status.idle": "2022-12-24T17:07:24.561838Z",
          "shell.execute_reply": "2022-12-24T17:07:24.561077Z"
        },
        "id": "e27c154c",
        "jupyter": {
          "outputs_hidden": false
        },
        "outputId": "546ab6cc-1e8c-4537-84cb-c5f1bb8126fb",
        "papermill": {
          "duration": 0.040896,
          "end_time": "2022-12-24T17:07:24.563758",
          "exception": false,
          "start_time": "2022-12-24T17:07:24.522862",
          "status": "completed"
        },
        "tags": []
      },
      "outputs": [
        {
          "data": {
            "text/html": [
              "\n",
              "  <div id=\"df-1d7a5d88-1f86-4a01-ba4d-cc9143c272d7\">\n",
              "    <div class=\"colab-df-container\">\n",
              "      <div>\n",
              "<style scoped>\n",
              "    .dataframe tbody tr th:only-of-type {\n",
              "        vertical-align: middle;\n",
              "    }\n",
              "\n",
              "    .dataframe tbody tr th {\n",
              "        vertical-align: top;\n",
              "    }\n",
              "\n",
              "    .dataframe thead th {\n",
              "        text-align: right;\n",
              "    }\n",
              "</style>\n",
              "<table border=\"1\" class=\"dataframe\">\n",
              "  <thead>\n",
              "    <tr style=\"text-align: right;\">\n",
              "      <th></th>\n",
              "      <th></th>\n",
              "      <th>numeric</th>\n",
              "    </tr>\n",
              "    <tr>\n",
              "      <th>Destination</th>\n",
              "      <th>HomePlanet</th>\n",
              "      <th></th>\n",
              "    </tr>\n",
              "  </thead>\n",
              "  <tbody>\n",
              "    <tr>\n",
              "      <th rowspan=\"3\" valign=\"top\">55 Cancri e</th>\n",
              "      <th>Earth</th>\n",
              "      <td>995</td>\n",
              "    </tr>\n",
              "    <tr>\n",
              "      <th>Europa</th>\n",
              "      <td>1343</td>\n",
              "    </tr>\n",
              "    <tr>\n",
              "      <th>Mars</th>\n",
              "      <td>299</td>\n",
              "    </tr>\n",
              "    <tr>\n",
              "      <th rowspan=\"3\" valign=\"top\">PSO J318.5-22</th>\n",
              "      <th>Earth</th>\n",
              "      <td>1083</td>\n",
              "    </tr>\n",
              "    <tr>\n",
              "      <th>Europa</th>\n",
              "      <td>29</td>\n",
              "    </tr>\n",
              "    <tr>\n",
              "      <th>Mars</th>\n",
              "      <td>68</td>\n",
              "    </tr>\n",
              "    <tr>\n",
              "      <th rowspan=\"3\" valign=\"top\">TRAPPIST-1e</th>\n",
              "      <th>Earth</th>\n",
              "      <td>4737</td>\n",
              "    </tr>\n",
              "    <tr>\n",
              "      <th>Europa</th>\n",
              "      <td>1780</td>\n",
              "    </tr>\n",
              "    <tr>\n",
              "      <th>Mars</th>\n",
              "      <td>2328</td>\n",
              "    </tr>\n",
              "  </tbody>\n",
              "</table>\n",
              "</div>\n",
              "      <button class=\"colab-df-convert\" onclick=\"convertToInteractive('df-1d7a5d88-1f86-4a01-ba4d-cc9143c272d7')\"\n",
              "              title=\"Convert this dataframe to an interactive table.\"\n",
              "              style=\"display:none;\">\n",
              "        \n",
              "  <svg xmlns=\"http://www.w3.org/2000/svg\" height=\"24px\"viewBox=\"0 0 24 24\"\n",
              "       width=\"24px\">\n",
              "    <path d=\"M0 0h24v24H0V0z\" fill=\"none\"/>\n",
              "    <path d=\"M18.56 5.44l.94 2.06.94-2.06 2.06-.94-2.06-.94-.94-2.06-.94 2.06-2.06.94zm-11 1L8.5 8.5l.94-2.06 2.06-.94-2.06-.94L8.5 2.5l-.94 2.06-2.06.94zm10 10l.94 2.06.94-2.06 2.06-.94-2.06-.94-.94-2.06-.94 2.06-2.06.94z\"/><path d=\"M17.41 7.96l-1.37-1.37c-.4-.4-.92-.59-1.43-.59-.52 0-1.04.2-1.43.59L10.3 9.45l-7.72 7.72c-.78.78-.78 2.05 0 2.83L4 21.41c.39.39.9.59 1.41.59.51 0 1.02-.2 1.41-.59l7.78-7.78 2.81-2.81c.8-.78.8-2.07 0-2.86zM5.41 20L4 18.59l7.72-7.72 1.47 1.35L5.41 20z\"/>\n",
              "  </svg>\n",
              "      </button>\n",
              "      \n",
              "  <style>\n",
              "    .colab-df-container {\n",
              "      display:flex;\n",
              "      flex-wrap:wrap;\n",
              "      gap: 12px;\n",
              "    }\n",
              "\n",
              "    .colab-df-convert {\n",
              "      background-color: #E8F0FE;\n",
              "      border: none;\n",
              "      border-radius: 50%;\n",
              "      cursor: pointer;\n",
              "      display: none;\n",
              "      fill: #1967D2;\n",
              "      height: 32px;\n",
              "      padding: 0 0 0 0;\n",
              "      width: 32px;\n",
              "    }\n",
              "\n",
              "    .colab-df-convert:hover {\n",
              "      background-color: #E2EBFA;\n",
              "      box-shadow: 0px 1px 2px rgba(60, 64, 67, 0.3), 0px 1px 3px 1px rgba(60, 64, 67, 0.15);\n",
              "      fill: #174EA6;\n",
              "    }\n",
              "\n",
              "    [theme=dark] .colab-df-convert {\n",
              "      background-color: #3B4455;\n",
              "      fill: #D2E3FC;\n",
              "    }\n",
              "\n",
              "    [theme=dark] .colab-df-convert:hover {\n",
              "      background-color: #434B5C;\n",
              "      box-shadow: 0px 1px 3px 1px rgba(0, 0, 0, 0.15);\n",
              "      filter: drop-shadow(0px 1px 2px rgba(0, 0, 0, 0.3));\n",
              "      fill: #FFFFFF;\n",
              "    }\n",
              "  </style>\n",
              "\n",
              "      <script>\n",
              "        const buttonEl =\n",
              "          document.querySelector('#df-1d7a5d88-1f86-4a01-ba4d-cc9143c272d7 button.colab-df-convert');\n",
              "        buttonEl.style.display =\n",
              "          google.colab.kernel.accessAllowed ? 'block' : 'none';\n",
              "\n",
              "        async function convertToInteractive(key) {\n",
              "          const element = document.querySelector('#df-1d7a5d88-1f86-4a01-ba4d-cc9143c272d7');\n",
              "          const dataTable =\n",
              "            await google.colab.kernel.invokeFunction('convertToInteractive',\n",
              "                                                     [key], {});\n",
              "          if (!dataTable) return;\n",
              "\n",
              "          const docLinkHtml = 'Like what you see? Visit the ' +\n",
              "            '<a target=\"_blank\" href=https://colab.research.google.com/notebooks/data_table.ipynb>data table notebook</a>'\n",
              "            + ' to learn more about interactive tables.';\n",
              "          element.innerHTML = '';\n",
              "          dataTable['output_type'] = 'display_data';\n",
              "          await google.colab.output.renderOutput(dataTable, element);\n",
              "          const docLink = document.createElement('div');\n",
              "          docLink.innerHTML = docLinkHtml;\n",
              "          element.appendChild(docLink);\n",
              "        }\n",
              "      </script>\n",
              "    </div>\n",
              "  </div>\n",
              "  "
            ],
            "text/plain": [
              "                          numeric\n",
              "Destination   HomePlanet         \n",
              "55 Cancri e   Earth           995\n",
              "              Europa         1343\n",
              "              Mars            299\n",
              "PSO J318.5-22 Earth          1083\n",
              "              Europa           29\n",
              "              Mars             68\n",
              "TRAPPIST-1e   Earth          4737\n",
              "              Europa         1780\n",
              "              Mars           2328"
            ]
          },
          "execution_count": 41,
          "metadata": {},
          "output_type": "execute_result"
        }
      ],
      "source": [
        "analys = train_test.loc[:,['HomePlanet','Destination']]\n",
        "analys['numeric'] =1\n",
        "analys.groupby(['Destination','HomePlanet']).count()"
      ]
    },
    {
      "cell_type": "markdown",
      "id": "c3324d47",
      "metadata": {
        "id": "c3324d47",
        "papermill": {
          "duration": 0.022421,
          "end_time": "2022-12-24T17:07:25.373801",
          "exception": false,
          "start_time": "2022-12-24T17:07:25.351380",
          "status": "completed"
        },
        "tags": []
      },
      "source": [
        "**4.7.Split Cabin.**"
      ]
    },
    {
      "cell_type": "code",
      "execution_count": 43,
      "id": "c7807c63",
      "metadata": {
        "_cell_guid": "be655a54-c761-4658-ade1-5af0476a7320",
        "_uuid": "6dcb0b72-0bf1-444a-9d41-2c6bf6427d0f",
        "execution": {
          "iopub.execute_input": "2022-12-24T17:07:25.475285Z",
          "iopub.status.busy": "2022-12-24T17:07:25.474097Z",
          "iopub.status.idle": "2022-12-24T17:07:25.547464Z",
          "shell.execute_reply": "2022-12-24T17:07:25.546580Z"
        },
        "id": "c7807c63",
        "jupyter": {
          "outputs_hidden": false
        },
        "papermill": {
          "duration": 0.100327,
          "end_time": "2022-12-24T17:07:25.550172",
          "exception": false,
          "start_time": "2022-12-24T17:07:25.449845",
          "status": "completed"
        },
        "tags": []
      },
      "outputs": [],
      "source": [
        "train_test.loc[:,['Cabin_1']] = train_test.Cabin.str.split(\"/\",expand=True).iloc[:,0]\n",
        "train_test.loc[:,['Cabin_2']] = train_test.Cabin.str.split(\"/\",expand=True).iloc[:,1]\n",
        "train_test.loc[:,['Cabin_3']] = train_test.Cabin.str.split(\"/\",expand=True).iloc[:,2]"
      ]
    },
    {
      "cell_type": "markdown",
      "id": "4108aec5",
      "metadata": {
        "id": "4108aec5",
        "papermill": {
          "duration": 0.023188,
          "end_time": "2022-12-24T17:07:25.700436",
          "exception": false,
          "start_time": "2022-12-24T17:07:25.677248",
          "status": "completed"
        },
        "tags": []
      },
      "source": [
        "**4.8.Let's apply SimpleImputer + OneHotEncoder.**"
      ]
    },
    {
      "cell_type": "code",
      "execution_count": 44,
      "id": "71669762",
      "metadata": {
        "_cell_guid": "2d7f8181-c940-4bc6-8383-9e94f4895cea",
        "_uuid": "d9b09e8d-ea2d-432d-a3e5-aa3ad0a2ace7",
        "execution": {
          "iopub.execute_input": "2022-12-24T17:07:25.746954Z",
          "iopub.status.busy": "2022-12-24T17:07:25.746578Z",
          "iopub.status.idle": "2022-12-24T17:07:25.821355Z",
          "shell.execute_reply": "2022-12-24T17:07:25.820400Z"
        },
        "id": "71669762",
        "jupyter": {
          "outputs_hidden": false
        },
        "papermill": {
          "duration": 0.101089,
          "end_time": "2022-12-24T17:07:25.823993",
          "exception": false,
          "start_time": "2022-12-24T17:07:25.722904",
          "status": "completed"
        },
        "tags": []
      },
      "outputs": [],
      "source": [
        "num_cols = ['ShoppingMall','FoodCourt','RoomService','Spa','VRDeck','Expenses','Age']\n",
        "cat_cols = ['CryoSleep','Cabin_1','Cabin_3','VIP','HomePlanet','Destination']\n",
        "transported=['Transported']\n",
        "#notvg = ['HomePlanet','VIP','ShoppingMall','FoodCourt','Age','Cabin_2','Destination']\n",
        "train_test = train_test[num_cols+cat_cols+transported].copy()\n",
        "\n",
        "num_imp = SimpleImputer(strategy='mean')\n",
        "cat_imp = SimpleImputer(strategy='most_frequent')\n",
        "ohe = OneHotEncoder (handle_unknown='ignore',sparse = False)\n",
        "\n",
        "\n",
        "train_test[num_cols] = pd.DataFrame(num_imp.fit_transform(train_test[num_cols]),columns=num_cols)\n",
        "train_test[cat_cols] = pd.DataFrame(cat_imp.fit_transform(train_test[cat_cols]),columns=cat_cols)\n",
        "temp_train = pd.DataFrame(ohe.fit_transform(train_test[cat_cols]),columns= ohe.get_feature_names_out())\n",
        "train_test = train_test.drop(cat_cols,axis=1)\n",
        "train_test = pd.concat([train_test,temp_train],axis=1)\n"
      ]
    },
    {
      "attachments": {},
      "cell_type": "markdown",
      "id": "20675d03",
      "metadata": {
        "id": "20675d03",
        "papermill": {
          "duration": 0.022996,
          "end_time": "2022-12-24T17:07:25.869783",
          "exception": false,
          "start_time": "2022-12-24T17:07:25.846787",
          "status": "completed"
        },
        "tags": []
      },
      "source": [
        "\n",
        "**4.9.Let's split train and test set.**"
      ]
    },
    {
      "cell_type": "code",
      "execution_count": 45,
      "id": "79fb5230",
      "metadata": {
        "_cell_guid": "b2ed8583-c551-43bc-95a9-a1c3c81b0f1b",
        "_uuid": "d9e24109-64ef-43d0-8f68-a5891772406c",
        "execution": {
          "iopub.execute_input": "2022-12-24T17:07:25.916438Z",
          "iopub.status.busy": "2022-12-24T17:07:25.916038Z",
          "iopub.status.idle": "2022-12-24T17:07:25.931363Z",
          "shell.execute_reply": "2022-12-24T17:07:25.930096Z"
        },
        "id": "79fb5230",
        "jupyter": {
          "outputs_hidden": false
        },
        "papermill": {
          "duration": 0.041293,
          "end_time": "2022-12-24T17:07:25.933613",
          "exception": false,
          "start_time": "2022-12-24T17:07:25.892320",
          "status": "completed"
        },
        "tags": []
      },
      "outputs": [],
      "source": [
        "train = train_test[train_test['Transported'].notnull()].copy()\n",
        "train.Transported =train.Transported.astype('int')\n",
        "test = train_test[train_test['Transported'].isnull()].drop(\"Transported\",axis=1)"
      ]
    },
    {
      "cell_type": "code",
      "execution_count": 46,
      "id": "9QGC84bWR7KU",
      "metadata": {
        "colab": {
          "base_uri": "https://localhost:8080/",
          "height": 505
        },
        "id": "9QGC84bWR7KU",
        "outputId": "84940266-83c2-4714-90c6-a40cfd17e15f"
      },
      "outputs": [
        {
          "data": {
            "text/html": [
              "\n",
              "  <div id=\"df-6157b029-b264-4b5b-9a7e-8e7a14ba00cb\">\n",
              "    <div class=\"colab-df-container\">\n",
              "      <div>\n",
              "<style scoped>\n",
              "    .dataframe tbody tr th:only-of-type {\n",
              "        vertical-align: middle;\n",
              "    }\n",
              "\n",
              "    .dataframe tbody tr th {\n",
              "        vertical-align: top;\n",
              "    }\n",
              "\n",
              "    .dataframe thead th {\n",
              "        text-align: right;\n",
              "    }\n",
              "</style>\n",
              "<table border=\"1\" class=\"dataframe\">\n",
              "  <thead>\n",
              "    <tr style=\"text-align: right;\">\n",
              "      <th></th>\n",
              "      <th>ShoppingMall</th>\n",
              "      <th>FoodCourt</th>\n",
              "      <th>RoomService</th>\n",
              "      <th>Spa</th>\n",
              "      <th>VRDeck</th>\n",
              "      <th>Expenses</th>\n",
              "      <th>Age</th>\n",
              "      <th>CryoSleep_False</th>\n",
              "      <th>CryoSleep_True</th>\n",
              "      <th>Cabin_1_A</th>\n",
              "      <th>...</th>\n",
              "      <th>Cabin_3_S</th>\n",
              "      <th>Cabin_3_None</th>\n",
              "      <th>VIP_False</th>\n",
              "      <th>VIP_True</th>\n",
              "      <th>HomePlanet_Earth</th>\n",
              "      <th>HomePlanet_Europa</th>\n",
              "      <th>HomePlanet_Mars</th>\n",
              "      <th>Destination_55 Cancri e</th>\n",
              "      <th>Destination_PSO J318.5-22</th>\n",
              "      <th>Destination_TRAPPIST-1e</th>\n",
              "    </tr>\n",
              "  </thead>\n",
              "  <tbody>\n",
              "    <tr>\n",
              "      <th>8693</th>\n",
              "      <td>0.0</td>\n",
              "      <td>0.0</td>\n",
              "      <td>0.0</td>\n",
              "      <td>0.0</td>\n",
              "      <td>0.0</td>\n",
              "      <td>0.0</td>\n",
              "      <td>27.000000</td>\n",
              "      <td>0.0</td>\n",
              "      <td>1.0</td>\n",
              "      <td>0.0</td>\n",
              "      <td>...</td>\n",
              "      <td>1.0</td>\n",
              "      <td>0.0</td>\n",
              "      <td>1.0</td>\n",
              "      <td>0.0</td>\n",
              "      <td>1.0</td>\n",
              "      <td>0.0</td>\n",
              "      <td>0.0</td>\n",
              "      <td>0.0</td>\n",
              "      <td>0.0</td>\n",
              "      <td>1.0</td>\n",
              "    </tr>\n",
              "    <tr>\n",
              "      <th>8694</th>\n",
              "      <td>0.0</td>\n",
              "      <td>9.0</td>\n",
              "      <td>0.0</td>\n",
              "      <td>2823.0</td>\n",
              "      <td>0.0</td>\n",
              "      <td>2832.0</td>\n",
              "      <td>19.000000</td>\n",
              "      <td>1.0</td>\n",
              "      <td>0.0</td>\n",
              "      <td>0.0</td>\n",
              "      <td>...</td>\n",
              "      <td>1.0</td>\n",
              "      <td>0.0</td>\n",
              "      <td>1.0</td>\n",
              "      <td>0.0</td>\n",
              "      <td>1.0</td>\n",
              "      <td>0.0</td>\n",
              "      <td>0.0</td>\n",
              "      <td>0.0</td>\n",
              "      <td>0.0</td>\n",
              "      <td>1.0</td>\n",
              "    </tr>\n",
              "    <tr>\n",
              "      <th>8695</th>\n",
              "      <td>0.0</td>\n",
              "      <td>0.0</td>\n",
              "      <td>0.0</td>\n",
              "      <td>0.0</td>\n",
              "      <td>0.0</td>\n",
              "      <td>0.0</td>\n",
              "      <td>31.000000</td>\n",
              "      <td>0.0</td>\n",
              "      <td>1.0</td>\n",
              "      <td>0.0</td>\n",
              "      <td>...</td>\n",
              "      <td>1.0</td>\n",
              "      <td>0.0</td>\n",
              "      <td>1.0</td>\n",
              "      <td>0.0</td>\n",
              "      <td>0.0</td>\n",
              "      <td>1.0</td>\n",
              "      <td>0.0</td>\n",
              "      <td>1.0</td>\n",
              "      <td>0.0</td>\n",
              "      <td>0.0</td>\n",
              "    </tr>\n",
              "    <tr>\n",
              "      <th>8696</th>\n",
              "      <td>0.0</td>\n",
              "      <td>6652.0</td>\n",
              "      <td>0.0</td>\n",
              "      <td>181.0</td>\n",
              "      <td>585.0</td>\n",
              "      <td>7418.0</td>\n",
              "      <td>38.000000</td>\n",
              "      <td>1.0</td>\n",
              "      <td>0.0</td>\n",
              "      <td>0.0</td>\n",
              "      <td>...</td>\n",
              "      <td>1.0</td>\n",
              "      <td>0.0</td>\n",
              "      <td>1.0</td>\n",
              "      <td>0.0</td>\n",
              "      <td>0.0</td>\n",
              "      <td>1.0</td>\n",
              "      <td>0.0</td>\n",
              "      <td>0.0</td>\n",
              "      <td>0.0</td>\n",
              "      <td>1.0</td>\n",
              "    </tr>\n",
              "    <tr>\n",
              "      <th>8697</th>\n",
              "      <td>635.0</td>\n",
              "      <td>0.0</td>\n",
              "      <td>10.0</td>\n",
              "      <td>0.0</td>\n",
              "      <td>0.0</td>\n",
              "      <td>645.0</td>\n",
              "      <td>20.000000</td>\n",
              "      <td>1.0</td>\n",
              "      <td>0.0</td>\n",
              "      <td>0.0</td>\n",
              "      <td>...</td>\n",
              "      <td>1.0</td>\n",
              "      <td>0.0</td>\n",
              "      <td>1.0</td>\n",
              "      <td>0.0</td>\n",
              "      <td>1.0</td>\n",
              "      <td>0.0</td>\n",
              "      <td>0.0</td>\n",
              "      <td>0.0</td>\n",
              "      <td>0.0</td>\n",
              "      <td>1.0</td>\n",
              "    </tr>\n",
              "    <tr>\n",
              "      <th>...</th>\n",
              "      <td>...</td>\n",
              "      <td>...</td>\n",
              "      <td>...</td>\n",
              "      <td>...</td>\n",
              "      <td>...</td>\n",
              "      <td>...</td>\n",
              "      <td>...</td>\n",
              "      <td>...</td>\n",
              "      <td>...</td>\n",
              "      <td>...</td>\n",
              "      <td>...</td>\n",
              "      <td>...</td>\n",
              "      <td>...</td>\n",
              "      <td>...</td>\n",
              "      <td>...</td>\n",
              "      <td>...</td>\n",
              "      <td>...</td>\n",
              "      <td>...</td>\n",
              "      <td>...</td>\n",
              "      <td>...</td>\n",
              "      <td>...</td>\n",
              "    </tr>\n",
              "    <tr>\n",
              "      <th>12965</th>\n",
              "      <td>0.0</td>\n",
              "      <td>0.0</td>\n",
              "      <td>0.0</td>\n",
              "      <td>0.0</td>\n",
              "      <td>0.0</td>\n",
              "      <td>0.0</td>\n",
              "      <td>34.000000</td>\n",
              "      <td>0.0</td>\n",
              "      <td>1.0</td>\n",
              "      <td>0.0</td>\n",
              "      <td>...</td>\n",
              "      <td>1.0</td>\n",
              "      <td>0.0</td>\n",
              "      <td>1.0</td>\n",
              "      <td>0.0</td>\n",
              "      <td>1.0</td>\n",
              "      <td>0.0</td>\n",
              "      <td>0.0</td>\n",
              "      <td>0.0</td>\n",
              "      <td>0.0</td>\n",
              "      <td>1.0</td>\n",
              "    </tr>\n",
              "    <tr>\n",
              "      <th>12966</th>\n",
              "      <td>17.0</td>\n",
              "      <td>847.0</td>\n",
              "      <td>0.0</td>\n",
              "      <td>10.0</td>\n",
              "      <td>144.0</td>\n",
              "      <td>1018.0</td>\n",
              "      <td>42.000000</td>\n",
              "      <td>1.0</td>\n",
              "      <td>0.0</td>\n",
              "      <td>0.0</td>\n",
              "      <td>...</td>\n",
              "      <td>0.0</td>\n",
              "      <td>1.0</td>\n",
              "      <td>1.0</td>\n",
              "      <td>0.0</td>\n",
              "      <td>1.0</td>\n",
              "      <td>0.0</td>\n",
              "      <td>0.0</td>\n",
              "      <td>0.0</td>\n",
              "      <td>0.0</td>\n",
              "      <td>1.0</td>\n",
              "    </tr>\n",
              "    <tr>\n",
              "      <th>12967</th>\n",
              "      <td>0.0</td>\n",
              "      <td>0.0</td>\n",
              "      <td>0.0</td>\n",
              "      <td>0.0</td>\n",
              "      <td>0.0</td>\n",
              "      <td>0.0</td>\n",
              "      <td>28.771969</td>\n",
              "      <td>0.0</td>\n",
              "      <td>1.0</td>\n",
              "      <td>0.0</td>\n",
              "      <td>...</td>\n",
              "      <td>0.0</td>\n",
              "      <td>0.0</td>\n",
              "      <td>1.0</td>\n",
              "      <td>0.0</td>\n",
              "      <td>0.0</td>\n",
              "      <td>0.0</td>\n",
              "      <td>1.0</td>\n",
              "      <td>1.0</td>\n",
              "      <td>0.0</td>\n",
              "      <td>0.0</td>\n",
              "    </tr>\n",
              "    <tr>\n",
              "      <th>12968</th>\n",
              "      <td>0.0</td>\n",
              "      <td>2680.0</td>\n",
              "      <td>0.0</td>\n",
              "      <td>0.0</td>\n",
              "      <td>523.0</td>\n",
              "      <td>3203.0</td>\n",
              "      <td>28.771969</td>\n",
              "      <td>1.0</td>\n",
              "      <td>0.0</td>\n",
              "      <td>0.0</td>\n",
              "      <td>...</td>\n",
              "      <td>0.0</td>\n",
              "      <td>0.0</td>\n",
              "      <td>1.0</td>\n",
              "      <td>0.0</td>\n",
              "      <td>0.0</td>\n",
              "      <td>1.0</td>\n",
              "      <td>0.0</td>\n",
              "      <td>0.0</td>\n",
              "      <td>0.0</td>\n",
              "      <td>1.0</td>\n",
              "    </tr>\n",
              "    <tr>\n",
              "      <th>12969</th>\n",
              "      <td>0.0</td>\n",
              "      <td>0.0</td>\n",
              "      <td>0.0</td>\n",
              "      <td>0.0</td>\n",
              "      <td>0.0</td>\n",
              "      <td>0.0</td>\n",
              "      <td>43.000000</td>\n",
              "      <td>0.0</td>\n",
              "      <td>1.0</td>\n",
              "      <td>0.0</td>\n",
              "      <td>...</td>\n",
              "      <td>1.0</td>\n",
              "      <td>0.0</td>\n",
              "      <td>1.0</td>\n",
              "      <td>0.0</td>\n",
              "      <td>1.0</td>\n",
              "      <td>0.0</td>\n",
              "      <td>0.0</td>\n",
              "      <td>0.0</td>\n",
              "      <td>1.0</td>\n",
              "      <td>0.0</td>\n",
              "    </tr>\n",
              "  </tbody>\n",
              "</table>\n",
              "<p>4277 rows × 28 columns</p>\n",
              "</div>\n",
              "      <button class=\"colab-df-convert\" onclick=\"convertToInteractive('df-6157b029-b264-4b5b-9a7e-8e7a14ba00cb')\"\n",
              "              title=\"Convert this dataframe to an interactive table.\"\n",
              "              style=\"display:none;\">\n",
              "        \n",
              "  <svg xmlns=\"http://www.w3.org/2000/svg\" height=\"24px\"viewBox=\"0 0 24 24\"\n",
              "       width=\"24px\">\n",
              "    <path d=\"M0 0h24v24H0V0z\" fill=\"none\"/>\n",
              "    <path d=\"M18.56 5.44l.94 2.06.94-2.06 2.06-.94-2.06-.94-.94-2.06-.94 2.06-2.06.94zm-11 1L8.5 8.5l.94-2.06 2.06-.94-2.06-.94L8.5 2.5l-.94 2.06-2.06.94zm10 10l.94 2.06.94-2.06 2.06-.94-2.06-.94-.94-2.06-.94 2.06-2.06.94z\"/><path d=\"M17.41 7.96l-1.37-1.37c-.4-.4-.92-.59-1.43-.59-.52 0-1.04.2-1.43.59L10.3 9.45l-7.72 7.72c-.78.78-.78 2.05 0 2.83L4 21.41c.39.39.9.59 1.41.59.51 0 1.02-.2 1.41-.59l7.78-7.78 2.81-2.81c.8-.78.8-2.07 0-2.86zM5.41 20L4 18.59l7.72-7.72 1.47 1.35L5.41 20z\"/>\n",
              "  </svg>\n",
              "      </button>\n",
              "      \n",
              "  <style>\n",
              "    .colab-df-container {\n",
              "      display:flex;\n",
              "      flex-wrap:wrap;\n",
              "      gap: 12px;\n",
              "    }\n",
              "\n",
              "    .colab-df-convert {\n",
              "      background-color: #E8F0FE;\n",
              "      border: none;\n",
              "      border-radius: 50%;\n",
              "      cursor: pointer;\n",
              "      display: none;\n",
              "      fill: #1967D2;\n",
              "      height: 32px;\n",
              "      padding: 0 0 0 0;\n",
              "      width: 32px;\n",
              "    }\n",
              "\n",
              "    .colab-df-convert:hover {\n",
              "      background-color: #E2EBFA;\n",
              "      box-shadow: 0px 1px 2px rgba(60, 64, 67, 0.3), 0px 1px 3px 1px rgba(60, 64, 67, 0.15);\n",
              "      fill: #174EA6;\n",
              "    }\n",
              "\n",
              "    [theme=dark] .colab-df-convert {\n",
              "      background-color: #3B4455;\n",
              "      fill: #D2E3FC;\n",
              "    }\n",
              "\n",
              "    [theme=dark] .colab-df-convert:hover {\n",
              "      background-color: #434B5C;\n",
              "      box-shadow: 0px 1px 3px 1px rgba(0, 0, 0, 0.15);\n",
              "      filter: drop-shadow(0px 1px 2px rgba(0, 0, 0, 0.3));\n",
              "      fill: #FFFFFF;\n",
              "    }\n",
              "  </style>\n",
              "\n",
              "      <script>\n",
              "        const buttonEl =\n",
              "          document.querySelector('#df-6157b029-b264-4b5b-9a7e-8e7a14ba00cb button.colab-df-convert');\n",
              "        buttonEl.style.display =\n",
              "          google.colab.kernel.accessAllowed ? 'block' : 'none';\n",
              "\n",
              "        async function convertToInteractive(key) {\n",
              "          const element = document.querySelector('#df-6157b029-b264-4b5b-9a7e-8e7a14ba00cb');\n",
              "          const dataTable =\n",
              "            await google.colab.kernel.invokeFunction('convertToInteractive',\n",
              "                                                     [key], {});\n",
              "          if (!dataTable) return;\n",
              "\n",
              "          const docLinkHtml = 'Like what you see? Visit the ' +\n",
              "            '<a target=\"_blank\" href=https://colab.research.google.com/notebooks/data_table.ipynb>data table notebook</a>'\n",
              "            + ' to learn more about interactive tables.';\n",
              "          element.innerHTML = '';\n",
              "          dataTable['output_type'] = 'display_data';\n",
              "          await google.colab.output.renderOutput(dataTable, element);\n",
              "          const docLink = document.createElement('div');\n",
              "          docLink.innerHTML = docLinkHtml;\n",
              "          element.appendChild(docLink);\n",
              "        }\n",
              "      </script>\n",
              "    </div>\n",
              "  </div>\n",
              "  "
            ],
            "text/plain": [
              "       ShoppingMall  FoodCourt  RoomService     Spa  VRDeck  Expenses  \\\n",
              "8693            0.0        0.0          0.0     0.0     0.0       0.0   \n",
              "8694            0.0        9.0          0.0  2823.0     0.0    2832.0   \n",
              "8695            0.0        0.0          0.0     0.0     0.0       0.0   \n",
              "8696            0.0     6652.0          0.0   181.0   585.0    7418.0   \n",
              "8697          635.0        0.0         10.0     0.0     0.0     645.0   \n",
              "...             ...        ...          ...     ...     ...       ...   \n",
              "12965           0.0        0.0          0.0     0.0     0.0       0.0   \n",
              "12966          17.0      847.0          0.0    10.0   144.0    1018.0   \n",
              "12967           0.0        0.0          0.0     0.0     0.0       0.0   \n",
              "12968           0.0     2680.0          0.0     0.0   523.0    3203.0   \n",
              "12969           0.0        0.0          0.0     0.0     0.0       0.0   \n",
              "\n",
              "             Age  CryoSleep_False  CryoSleep_True  Cabin_1_A  ...  Cabin_3_S  \\\n",
              "8693   27.000000              0.0             1.0        0.0  ...        1.0   \n",
              "8694   19.000000              1.0             0.0        0.0  ...        1.0   \n",
              "8695   31.000000              0.0             1.0        0.0  ...        1.0   \n",
              "8696   38.000000              1.0             0.0        0.0  ...        1.0   \n",
              "8697   20.000000              1.0             0.0        0.0  ...        1.0   \n",
              "...          ...              ...             ...        ...  ...        ...   \n",
              "12965  34.000000              0.0             1.0        0.0  ...        1.0   \n",
              "12966  42.000000              1.0             0.0        0.0  ...        0.0   \n",
              "12967  28.771969              0.0             1.0        0.0  ...        0.0   \n",
              "12968  28.771969              1.0             0.0        0.0  ...        0.0   \n",
              "12969  43.000000              0.0             1.0        0.0  ...        1.0   \n",
              "\n",
              "       Cabin_3_None  VIP_False  VIP_True  HomePlanet_Earth  HomePlanet_Europa  \\\n",
              "8693            0.0        1.0       0.0               1.0                0.0   \n",
              "8694            0.0        1.0       0.0               1.0                0.0   \n",
              "8695            0.0        1.0       0.0               0.0                1.0   \n",
              "8696            0.0        1.0       0.0               0.0                1.0   \n",
              "8697            0.0        1.0       0.0               1.0                0.0   \n",
              "...             ...        ...       ...               ...                ...   \n",
              "12965           0.0        1.0       0.0               1.0                0.0   \n",
              "12966           1.0        1.0       0.0               1.0                0.0   \n",
              "12967           0.0        1.0       0.0               0.0                0.0   \n",
              "12968           0.0        1.0       0.0               0.0                1.0   \n",
              "12969           0.0        1.0       0.0               1.0                0.0   \n",
              "\n",
              "       HomePlanet_Mars  Destination_55 Cancri e  Destination_PSO J318.5-22  \\\n",
              "8693               0.0                      0.0                        0.0   \n",
              "8694               0.0                      0.0                        0.0   \n",
              "8695               0.0                      1.0                        0.0   \n",
              "8696               0.0                      0.0                        0.0   \n",
              "8697               0.0                      0.0                        0.0   \n",
              "...                ...                      ...                        ...   \n",
              "12965              0.0                      0.0                        0.0   \n",
              "12966              0.0                      0.0                        0.0   \n",
              "12967              1.0                      1.0                        0.0   \n",
              "12968              0.0                      0.0                        0.0   \n",
              "12969              0.0                      0.0                        1.0   \n",
              "\n",
              "       Destination_TRAPPIST-1e  \n",
              "8693                       1.0  \n",
              "8694                       1.0  \n",
              "8695                       0.0  \n",
              "8696                       1.0  \n",
              "8697                       1.0  \n",
              "...                        ...  \n",
              "12965                      1.0  \n",
              "12966                      1.0  \n",
              "12967                      0.0  \n",
              "12968                      1.0  \n",
              "12969                      0.0  \n",
              "\n",
              "[4277 rows x 28 columns]"
            ]
          },
          "execution_count": 46,
          "metadata": {},
          "output_type": "execute_result"
        }
      ],
      "source": [
        "test"
      ]
    },
    {
      "cell_type": "code",
      "execution_count": 47,
      "id": "80738b34",
      "metadata": {
        "execution": {
          "iopub.execute_input": "2022-12-24T17:07:25.980786Z",
          "iopub.status.busy": "2022-12-24T17:07:25.980368Z",
          "iopub.status.idle": "2022-12-24T17:07:25.987011Z",
          "shell.execute_reply": "2022-12-24T17:07:25.985927Z"
        },
        "id": "80738b34",
        "papermill": {
          "duration": 0.03309,
          "end_time": "2022-12-24T17:07:25.989218",
          "exception": false,
          "start_time": "2022-12-24T17:07:25.956128",
          "status": "completed"
        },
        "tags": []
      },
      "outputs": [],
      "source": [
        "X = train.drop('Transported',axis=1)\n",
        "y = train.Transported"
      ]
    },
    {
      "cell_type": "code",
      "execution_count": 48,
      "id": "7d96ebeb",
      "metadata": {
        "execution": {
          "iopub.execute_input": "2022-12-24T17:07:26.036544Z",
          "iopub.status.busy": "2022-12-24T17:07:26.036122Z",
          "iopub.status.idle": "2022-12-24T17:07:26.045765Z",
          "shell.execute_reply": "2022-12-24T17:07:26.044664Z"
        },
        "id": "7d96ebeb",
        "papermill": {
          "duration": 0.036166,
          "end_time": "2022-12-24T17:07:26.048137",
          "exception": false,
          "start_time": "2022-12-24T17:07:26.011971",
          "status": "completed"
        },
        "tags": []
      },
      "outputs": [],
      "source": [
        "X,y = shuffle(X,y)\n",
        "X = X.reset_index(drop=True)\n",
        "y = y.reset_index(drop=True)"
      ]
    },
    {
      "attachments": {},
      "cell_type": "markdown",
      "id": "15998218",
      "metadata": {
        "id": "15998218",
        "papermill": {
          "duration": 0.022605,
          "end_time": "2022-12-24T17:09:28.133247",
          "exception": false,
          "start_time": "2022-12-24T17:09:28.110642",
          "status": "completed"
        },
        "tags": []
      },
      "source": [
        " ** 4.10.Let's deal with outliers.**"
      ]
    },
    {
      "cell_type": "code",
      "execution_count": 49,
      "id": "57424ba4",
      "metadata": {
        "execution": {
          "iopub.execute_input": "2022-12-24T17:09:28.179924Z",
          "iopub.status.busy": "2022-12-24T17:09:28.179515Z",
          "iopub.status.idle": "2022-12-24T17:09:28.184862Z",
          "shell.execute_reply": "2022-12-24T17:09:28.183983Z"
        },
        "id": "57424ba4",
        "papermill": {
          "duration": 0.031279,
          "end_time": "2022-12-24T17:09:28.186895",
          "exception": false,
          "start_time": "2022-12-24T17:09:28.155616",
          "status": "completed"
        },
        "tags": []
      },
      "outputs": [],
      "source": [
        "features_isolation =['ShoppingMall','FoodCourt','RoomService','Spa','VRDeck','Age']"
      ]
    },
    {
      "cell_type": "code",
      "execution_count": 53,
      "id": "eb1ff165",
      "metadata": {
        "execution": {
          "iopub.execute_input": "2022-12-24T17:12:36.278278Z",
          "iopub.status.busy": "2022-12-24T17:12:36.277849Z",
          "iopub.status.idle": "2022-12-24T17:12:36.282636Z",
          "shell.execute_reply": "2022-12-24T17:12:36.281600Z"
        },
        "id": "eb1ff165",
        "papermill": {
          "duration": 0.041308,
          "end_time": "2022-12-24T17:12:36.284893",
          "exception": false,
          "start_time": "2022-12-24T17:12:36.243585",
          "status": "completed"
        },
        "tags": []
      },
      "outputs": [],
      "source": [
        "drop_list=['ShoppingMall','Age','CryoSleep_True','HomePlanet_Earth','HomePlanet_Europa',\n",
        "'VIP_True','HomePlanet_Mars','Destination_PSO J318.5-22','VIP_False',\n",
        "'Destination_55 Cancri e','FoodCourt','Destination_TRAPPIST-1e']"
      ]
    },
    {
      "cell_type": "code",
      "execution_count": 54,
      "id": "96b62746",
      "metadata": {
        "execution": {
          "iopub.execute_input": "2022-12-24T17:12:36.353179Z",
          "iopub.status.busy": "2022-12-24T17:12:36.352775Z",
          "iopub.status.idle": "2022-12-24T17:12:36.359297Z",
          "shell.execute_reply": "2022-12-24T17:12:36.358190Z"
        },
        "id": "96b62746",
        "papermill": {
          "duration": 0.04386,
          "end_time": "2022-12-24T17:12:36.361697",
          "exception": false,
          "start_time": "2022-12-24T17:12:36.317837",
          "status": "completed"
        },
        "tags": []
      },
      "outputs": [],
      "source": [
        "X=X.drop(drop_list,axis=1)\n",
        "test=test.drop(drop_list,axis=1)\n"
      ]
    },
    {
      "cell_type": "code",
      "execution_count": 254,
      "id": "BoW3dGSzSgMy",
      "metadata": {
        "id": "BoW3dGSzSgMy"
      },
      "outputs": [],
      "source": [
        "\n",
        "from lightgbm import LGBMClassifier\n",
        "from sklearn.model_selection import train_test_split, GridSearchCV, RandomizedSearchCV"
      ]
    },
    {
      "cell_type": "code",
      "execution_count": 255,
      "id": "HyeZMG2GQ7lE",
      "metadata": {
        "id": "HyeZMG2GQ7lE"
      },
      "outputs": [],
      "source": [
        "model1 = LGBMClassifier()\n",
        "parameters1 = {\"n_estimators\":[100,300,500,600,650],\n",
        "              \"learning_rate\":[0.01,0.02,0.03],\n",
        "              \"random_state\":[0,42,48,50],\n",
        "               \"num_leaves\":[16,17,18]}\n",
        "grid_search1 = GridSearchCV(model1, parameters1, cv=5, n_jobs=-1)\n",
        "grid_search1.fit(X,y.values.ravel())\n",
        "grid_search1.best_score_\n",
        "best_parameters1 = grid_search1.best_params_"
      ]
    },
    {
      "cell_type": "code",
      "execution_count": 256,
      "id": "3AztAzAsRPAj",
      "metadata": {
        "id": "3AztAzAsRPAj"
      },
      "outputs": [],
      "source": [
        "model1 = LGBMClassifier(**best_parameters1)\n",
        "model1.fit(X,y)\n",
        "x_test_pred1 = model1.predict(test)\n"
      ]
    },
    {
      "cell_type": "code",
      "execution_count": 257,
      "id": "POuSfeDWUduC",
      "metadata": {
        "id": "POuSfeDWUduC"
      },
      "outputs": [],
      "source": [
        "sample['Transported'] = x_test_pred1 \n",
        "sample['Transported']=sample['Transported']>0.5\n",
        "sample.to_csv('lgbm1.csv', index=False)"
      ]
    },
    {
      "cell_type": "code",
      "execution_count": 259,
      "id": "z-k23uTBdC6H",
      "metadata": {
        "id": "z-k23uTBdC6H"
      },
      "outputs": [],
      "source": [
        "## CODE FOR LGBM HYPERPARSMETERS\n",
        "skf = StratifiedKFold(n_splits=10)"
      ]
    },
    {
      "cell_type": "code",
      "execution_count": 260,
      "id": "4CVeTj3xdcQA",
      "metadata": {
        "id": "4CVeTj3xdcQA"
      },
      "outputs": [],
      "source": [
        "\n",
        "def objective(trial):\n",
        "    param = {\n",
        "     'objective': 'binary',\n",
        "     'device': 'hist',\n",
        "     'metric': 'binary_logloss',\n",
        "     'verbosity': -1,\n",
        "     'lambda_l1': trial.suggest_float('lambda_l1', 1e-8, 10.0),\n",
        "     'lambda_l2': trial.suggest_float('lambda_l2', 1e-8, 10.0),\n",
        "     'learning_rate': trial.suggest_float('learning_rate', 0.0001,0.1),\n",
        "     'num_leaves': trial.suggest_int('num_leaves', 2, 512),\n",
        "     'feature_fraction': trial.suggest_float('feature_fraction', 0.4, 1.0),\n",
        "     'bagging_fraction': trial.suggest_float('bagging_fraction', 0.4, 1.0),\n",
        "     'bagging_freq': trial.suggest_int('bagging_freq', 1, 7),\n",
        "     'min_child_samples': trial.suggest_int('min_child_samples', 5, 100),\n",
        "     'n_estimators' : trial.suggest_int('n_estimators', 100, 20000),\n",
        "     'subsample':None,\n",
        "     'subsample_freq':None,\n",
        "     'reg_alpha':None,\n",
        "     'colsample_bytree':None,\n",
        "     'reg_lambda':None,\n",
        "     'early_stopping_round':trial.suggest_int('early_stopping_round', 200, 200)\n",
        "            }\n",
        "    results=[]\n",
        "    n_iterations=[]\n",
        "    for train_index, test_index in skf.split(X, y):\n",
        "        train_X, valid_X = X.iloc[train_index], X.iloc[test_index]\n",
        "        train_y, valid_y = y.iloc[train_index], y.iloc[test_index]\n",
        "        model = lgb.LGBMClassifier(**param).fit(train_X,train_y,\n",
        "                                            eval_set=[(valid_X,valid_y)],\n",
        "                                            callbacks=[lgb.log_evaluation(period=0, show_stdv=False)]\n",
        "                                             )  \n",
        "        n_iteration = model.best_iteration_\n",
        "        n_iterations.append(n_iteration)\n",
        "        result = accuracy_score(valid_y,(model.predict(valid_X)))\n",
        "        results.append(result)\n",
        "        i=int(sum(n_iterations)/len(n_iterations))\n",
        "    print(\"Average n_ite=\" + str(i))\n",
        "    print(\"% of scatter =\" + str(np.std(n_iterations)/i))\n",
        "    n=sum(results)/len(results)\n",
        "    print(n)\n",
        "    print(\"FIIINISH__________________________________\\n\")\n",
        "       \n",
        "    return n\n",
        "\n",
        "if optuna_study == LGBM_study:\n",
        "    study = optuna.create_study(pruner=optuna.pruners.HyperbandPruner(),\n",
        "                                direction='maximize')\n",
        "    study.optimize(objective, n_trials=10000)\n",
        "    print('Best trial:', study.best_trial.params)\n"
      ]
    },
    {
      "cell_type": "code",
      "execution_count": 56,
      "id": "kitxwPwxdi5d",
      "metadata": {
        "id": "kitxwPwxdi5d"
      },
      "outputs": [],
      "source": [
        "params_LGBM= {'lambda_l1': 6.183557865875619, \n",
        "              'lambda_l2': 0.011470762415538793, \n",
        "              'learning_rate': 0.08693013162698361, \n",
        "              'num_leaves': 330,\n",
        "              'feature_fraction': 0.6583455294128855, \n",
        "              'bagging_fraction': 0.8666491286986552, \n",
        "              'bagging_freq': 1, \n",
        "              'min_child_samples': 17, \n",
        "              'n_estimators': 739}"
      ]
    },
    {
      "cell_type": "code",
      "execution_count": 262,
      "id": "2t_hmV0Cd0q5",
      "metadata": {
        "id": "2t_hmV0Cd0q5"
      },
      "outputs": [],
      "source": [
        "## HYPERPARAMETER TUNING XGB"
      ]
    },
    {
      "cell_type": "code",
      "execution_count": 263,
      "id": "BZ6AvSyVdxhV",
      "metadata": {
        "id": "BZ6AvSyVdxhV"
      },
      "outputs": [],
      "source": [
        "def objective(trial):\n",
        "    print(\"START__________________________________\")\n",
        "    param = {  \n",
        "        'tree_method':'hist',\n",
        "        'objective': 'binary:logistic',\n",
        "        'eval_metric': 'logloss',\n",
        "        'lambda': trial.suggest_float('lambda', 0, 10.0),\n",
        "        'alpha': trial.suggest_float('alpha', 0, 10.0),\n",
        "        'colsample_bytree': trial.suggest_float('colsample_bytree', 0.1,1.0),\n",
        "        'subsample': trial.suggest_float('subsample', 0.2,1.0),\n",
        "        'learning_rate': trial.suggest_float('learning_rate', 0.0001,0.1),\n",
        "        'n_estimators': trial.suggest_int('n_estimators', 100,3000),\n",
        "        'max_depth': trial.suggest_categorical('max_depth', [2,3,4,5,6,7,8,9,10]),\n",
        "        'min_child_weight': trial.suggest_int('min_child_weight', 1, 10),\n",
        "        'num_parallel_tree': trial.suggest_int('num_parallel_tree',1,1),\n",
        "        }\n",
        "    \n",
        "    results=[]\n",
        "    n_iterations=[]\n",
        "    for train_index, test_index in skf.split(X, y):\n",
        "        train_X, valid_X = X.iloc[train_index], X.iloc[test_index]\n",
        "        train_y, valid_y = y.iloc[train_index], y.iloc[test_index]\n",
        "        model = xgb.XGBClassifier(**param).fit(train_X,train_y,\n",
        "                                      eval_set=[(valid_X,valid_y)],\n",
        "                                      verbose=0\n",
        "                                     )  \n",
        "        n_iteration = model.get_booster().best_iteration\n",
        "        n_iterations.append(n_iteration)\n",
        "        result = accuracy_score(valid_y,(model.predict(valid_X)))\n",
        "        results.append(result)\n",
        "        i=int(sum(n_iterations)/len(n_iterations))\n",
        "    print(\"Average n_ite=\" + str(i))\n",
        "    print(\"% of scatter =\" + str(np.std(n_iterations)/i))    \n",
        "    n=sum(results)/len(results) \n",
        "    print (n)\n",
        "    print(\"FIIINISH__________________________________\\n\")\n",
        "    return n\n",
        "\n",
        "if optuna_study == XGB_study:\n",
        "    study = optuna.create_study(pruner=optuna.pruners.HyperbandPruner(),\n",
        "                                direction='maximize')\n",
        "    study.optimize(objective, n_trials=1000)"
      ]
    },
    {
      "cell_type": "code",
      "execution_count": null,
      "id": "-3vwl4iseBhC",
      "metadata": {
        "colab": {
          "base_uri": "https://localhost:8080/",
          "height": 764
        },
        "id": "-3vwl4iseBhC",
        "outputId": "9b5b6228-8763-4a56-869a-5e0464af6bc7"
      },
      "outputs": [],
      "source": [
        "study = optuna.create_study(direction='maximize', study_name='XGBoost Optimization')\n",
        "study.optimize(objective, n_trials=100)\n",
        "\n",
        "print(\"Best hyperparameters: \", study.best_params)\n",
        "print(\"Best objective value: \", study.best_value)"
      ]
    },
    {
      "cell_type": "code",
      "execution_count": 55,
      "id": "NYV0clNGeIpw",
      "metadata": {
        "id": "NYV0clNGeIpw"
      },
      "outputs": [],
      "source": [
        "params_XGB_best= {'lambda': 3.0610042624477543, \n",
        "             'alpha': 4.581902571574289, \n",
        "             'colsample_bytree': 0.9241969052729379, \n",
        "             'subsample': 0.9527591724824661, \n",
        "             'learning_rate': 0.06672065863100594, \n",
        "             'n_estimators': 730,\n",
        "             'max_depth': 5, \n",
        "             'min_child_weight': 1, \n",
        "             'num_parallel_tree': 1}"
      ]
    },
    {
      "cell_type": "code",
      "execution_count": 266,
      "id": "SvNQ11MseL8o",
      "metadata": {
        "id": "SvNQ11MseL8o"
      },
      "outputs": [],
      "source": [
        "pred_XGB_best = (xgb.XGBClassifier(**params_XGB_best).fit(X,y)).predict(test)\n",
        "sample['Transported'] = pred_XGB_best\n",
        "sample['Transported']=sample['Transported']>0.5\n",
        "sample.to_csv('XGB_best(2).csv', index=False)"
      ]
    },
    {
      "cell_type": "code",
      "execution_count": null,
      "id": "_14ZIyn_ncM8",
      "metadata": {
        "colab": {
          "base_uri": "https://localhost:8080/"
        },
        "id": "_14ZIyn_ncM8",
        "outputId": "229e2758-f08e-4a1d-d9f7-3b1394041ae2"
      },
      "outputs": [],
      "source": [
        "\n",
        "from sklearn.ensemble import VotingRegressor\n",
        "from sklearn.model_selection import GridSearchCV\n",
        "from xgboost import XGBRegressor\n",
        "from lightgbm import LGBMRegressor\n",
        "lgbm = LGBMRegressor()\n",
        "xgb = XGBRegressor()\n",
        "lgbm_params = params_LGBM\n",
        "xgb_params = params_XGB_best\n",
        "\n",
        "lgbm_best_params = params_LGBM\n",
        "xgb_best_params = params_XGB_best\n",
        "\n",
        "lgbm_best = LGBMRegressor(**lgbm_best_params)\n",
        "xgb_best = XGBRegressor(**xgb_best_params)\n",
        "ensemble = VotingRegressor([('lgbm', lgbm_best), ('xgb', xgb_best)])\n",
        "ensemble.fit(X, y)\n",
        "y_pred = ensemble.predict(test)"
      ]
    },
    {
      "cell_type": "code",
      "execution_count": 64,
      "id": "RVT7NaEHoVBM",
      "metadata": {
        "id": "RVT7NaEHoVBM"
      },
      "outputs": [],
      "source": [
        "sample['Transported'] = y_pred\n",
        "sample['Transported']=sample['Transported']>0.5\n",
        "sample.to_csv('ensemblelgbmxgboptum.csv', index=False)"
      ]
    }
  ],
  "metadata": {
    "colab": {
      "provenance": []
    },
    "kernelspec": {
      "display_name": "Python 3",
      "language": "python",
      "name": "python3"
    },
    "language_info": {
      "codemirror_mode": {
        "name": "ipython",
        "version": 3
      },
      "file_extension": ".py",
      "mimetype": "text/x-python",
      "name": "python",
      "nbconvert_exporter": "python",
      "pygments_lexer": "ipython3",
      "version": "3.7.12"
    },
    "papermill": {
      "default_parameters": {},
      "duration": 446.623504,
      "end_time": "2022-12-24T17:14:18.901867",
      "environment_variables": {},
      "exception": null,
      "input_path": "__notebook__.ipynb",
      "output_path": "__notebook__.ipynb",
      "parameters": {},
      "start_time": "2022-12-24T17:06:52.278363",
      "version": "2.3.4"
    }
  },
  "nbformat": 4,
  "nbformat_minor": 5
}
